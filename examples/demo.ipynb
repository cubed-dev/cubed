{
 "cells": [
  {
   "cell_type": "markdown",
   "id": "cdfa6553",
   "metadata": {},
   "source": [
    "# Cubed Demo"
   ]
  },
  {
   "cell_type": "markdown",
   "id": "6783c383",
   "metadata": {},
   "source": [
    "Cubed implements the [Python Array API standard](https://data-apis.org/array-api/latest/) - or currently a small subset - so a simple way to create an array for demonstration purposes is using `asarray`:"
   ]
  },
  {
   "cell_type": "code",
   "execution_count": 1,
   "id": "4fa8c864",
   "metadata": {},
   "outputs": [],
   "source": [
    "import cubed\n",
    "import cubed.array_api as xp\n",
    "a = xp.asarray([[1, 2, 3], [4, 5, 6], [7, 8, 9]], chunks=(2, 2))"
   ]
  },
  {
   "cell_type": "markdown",
   "id": "a7c8fb87",
   "metadata": {},
   "source": [
    "Notice that we specify chunks, just like in Dask Array.\n",
    "\n",
    "Let's create another array and then add them together."
   ]
  },
  {
   "cell_type": "code",
   "execution_count": 2,
   "id": "d5775ba1",
   "metadata": {},
   "outputs": [
    {
     "data": {
      "text/html": [
       "<table>\n",
       "    <tr>\n",
       "        <td>\n",
       "            <table>\n",
       "                <thead>\n",
       "                    <tr>\n",
       "                        <td> </td>\n",
       "                        <th> Array </th>\n",
       "                        <th> Chunk </th>\n",
       "                    </tr>\n",
       "                </thead>\n",
       "                <tbody>\n",
       "                    \n",
       "                    <tr>\n",
       "                        <th> Bytes </th>\n",
       "                        <td> 72 bytes </td>\n",
       "                        <td> 32 bytes </td>\n",
       "                    </tr>\n",
       "                    \n",
       "                    <tr>\n",
       "                        <th> Shape </th>\n",
       "                        <td> (3, 3) </td>\n",
       "                        <td> (2, 2) </td>\n",
       "                    </tr>\n",
       "                    <tr>\n",
       "                        <th> Count </th>\n",
       "                        <td> 3 arrays in Plan </td>\n",
       "                        <td> 4 Chunks </td>\n",
       "                    </tr>\n",
       "                    <tr>\n",
       "                        <th> Type </th>\n",
       "                        <td> int64 </td>\n",
       "                        <td> np.ndarray </td>\n",
       "                    </tr>\n",
       "                </tbody>\n",
       "            </table>\n",
       "        </td>\n",
       "        <td>\n",
       "        <svg width=\"170\" height=\"170\" style=\"stroke:rgb(0,0,0);stroke-width:1\" >\n",
       "\n",
       "  <!-- Horizontal lines -->\n",
       "  <line x1=\"0\" y1=\"0\" x2=\"120\" y2=\"0\" style=\"stroke-width:2\" />\n",
       "  <line x1=\"0\" y1=\"80\" x2=\"120\" y2=\"80\" />\n",
       "  <line x1=\"0\" y1=\"120\" x2=\"120\" y2=\"120\" style=\"stroke-width:2\" />\n",
       "\n",
       "  <!-- Vertical lines -->\n",
       "  <line x1=\"0\" y1=\"0\" x2=\"0\" y2=\"120\" style=\"stroke-width:2\" />\n",
       "  <line x1=\"80\" y1=\"0\" x2=\"80\" y2=\"120\" />\n",
       "  <line x1=\"120\" y1=\"0\" x2=\"120\" y2=\"120\" style=\"stroke-width:2\" />\n",
       "\n",
       "  <!-- Colored Rectangle -->\n",
       "  <polygon points=\"0.0,0.0 120.0,0.0 120.0,120.0 0.0,120.0\" style=\"fill:#ECB172A0;stroke-width:0\"/>\n",
       "\n",
       "  <!-- Text -->\n",
       "  <text x=\"60.000000\" y=\"140.000000\" font-size=\"1.0rem\" font-weight=\"100\" text-anchor=\"middle\" >3</text>\n",
       "  <text x=\"140.000000\" y=\"60.000000\" font-size=\"1.0rem\" font-weight=\"100\" text-anchor=\"middle\" transform=\"rotate(0,140.000000,60.000000)\">3</text>\n",
       "</svg>\n",
       "        </td>\n",
       "    </tr>\n",
       "</table>"
      ],
      "text/plain": [
       "cubed.Array<array-003, shape=(3, 3), dtype=int64, chunks=((2, 1), (2, 1))>"
      ]
     },
     "execution_count": 2,
     "metadata": {},
     "output_type": "execute_result"
    }
   ],
   "source": [
    "b = xp.asarray([[1, 1, 1], [1, 1, 1], [1, 1, 1]], chunks=(2, 2))\n",
    "c = xp.add(a, b)\n",
    "c"
   ]
  },
  {
   "cell_type": "markdown",
   "id": "f35e7cb3",
   "metadata": {},
   "source": [
    "Cubed uses lazy evaluation, so nothing has been computed yet. We call `compute()` to run the computation and get the result as a NumPy array. (Again, just like in Dask.)"
   ]
  },
  {
   "cell_type": "code",
   "execution_count": 3,
   "id": "eac161e5",
   "metadata": {},
   "outputs": [
    {
     "data": {
      "text/plain": [
       "array([[ 2,  3,  4],\n",
       "       [ 5,  6,  7],\n",
       "       [ 8,  9, 10]])"
      ]
     },
     "execution_count": 3,
     "metadata": {},
     "output_type": "execute_result"
    }
   ],
   "source": [
    "c.compute()"
   ]
  },
  {
   "cell_type": "markdown",
   "id": "c20410d0",
   "metadata": {},
   "source": [
    "## Storage"
   ]
  },
  {
   "cell_type": "markdown",
   "id": "e3af7bb4",
   "metadata": {},
   "source": [
    "Every array in Cubed is backed by a Zarr array. The arrays `a`, `b`, and `c` above are all written to a temporary directory on the filesystem. Let's set the working directory explicitly so we can inspect it later. We do this by creating a `Spec` object."
   ]
  },
  {
   "cell_type": "code",
   "execution_count": 4,
   "id": "98dbf62c",
   "metadata": {},
   "outputs": [],
   "source": [
    "spec = cubed.Spec(work_dir=\"tmp\", allowed_mem=\"100kB\")"
   ]
  },
  {
   "cell_type": "markdown",
   "id": "f2363db6",
   "metadata": {},
   "source": [
    "We've also set the maximum memory to 100kB, which is plenty for these small arrays - we'll come back to that later.\n",
    "\n",
    "Now let's run the example again, passing in the spec when we create the arrays:"
   ]
  },
  {
   "cell_type": "code",
   "execution_count": 5,
   "id": "5d884308",
   "metadata": {},
   "outputs": [],
   "source": [
    "a = xp.asarray([[1, 2, 3], [4, 5, 6], [7, 8, 9]], chunks=(2, 2), spec=spec)\n",
    "b = xp.asarray([[1, 1, 1], [1, 1, 1], [1, 1, 1]], chunks=(2, 2), spec=spec)\n",
    "c = xp.add(a, b)"
   ]
  },
  {
   "cell_type": "markdown",
   "id": "4553e3af",
   "metadata": {},
   "source": [
    "If we look at what's in the work directory, we see that there are three Zarr arrays."
   ]
  },
  {
   "cell_type": "code",
   "execution_count": 6,
   "id": "a15e64e6",
   "metadata": {},
   "outputs": [
    {
     "name": "stdout",
     "output_type": "stream",
     "text": [
      "find: tmp: No such file or directory\n"
     ]
    }
   ],
   "source": [
    "! find tmp | sort"
   ]
  },
  {
   "cell_type": "markdown",
   "id": "5e0fb8ce",
   "metadata": {},
   "source": [
    "Two Zarr arrays, corresponding to `a` and `b`, are populated with data even though we haven't run the calculation yet. This is because `asarray` writes the data to Zarr immediately.\n",
    "\n",
    "The third array, corresponding to `c`, only has Zarr metadata present (the `.zarray` file).\n",
    "\n",
    "When we call `compute()` we get the result back:"
   ]
  },
  {
   "cell_type": "code",
   "execution_count": 7,
   "id": "edcfb38b",
   "metadata": {},
   "outputs": [
    {
     "data": {
      "text/plain": [
       "array([[ 2,  3,  4],\n",
       "       [ 5,  6,  7],\n",
       "       [ 8,  9, 10]])"
      ]
     },
     "execution_count": 7,
     "metadata": {},
     "output_type": "execute_result"
    }
   ],
   "source": [
    "c.compute()"
   ]
  },
  {
   "cell_type": "markdown",
   "id": "8e04250d",
   "metadata": {},
   "source": [
    "And the resulting Zarr array, `c`, is now stored on the filesystem:"
   ]
  },
  {
   "cell_type": "code",
   "execution_count": 8,
   "id": "dfc54791",
   "metadata": {},
   "outputs": [
    {
     "name": "stdout",
     "output_type": "stream",
     "text": [
      "tmp\n",
      "tmp/cubed-20240729T155009-073e9654-3316-47cf-b37d-18a2dc9004a6\n",
      "tmp/cubed-20240729T155009-073e9654-3316-47cf-b37d-18a2dc9004a6/array-006.zarr\n",
      "tmp/cubed-20240729T155009-073e9654-3316-47cf-b37d-18a2dc9004a6/array-006.zarr/.zarray\n",
      "tmp/cubed-20240729T155009-073e9654-3316-47cf-b37d-18a2dc9004a6/array-006.zarr/0.0\n",
      "tmp/cubed-20240729T155009-073e9654-3316-47cf-b37d-18a2dc9004a6/array-006.zarr/0.1\n",
      "tmp/cubed-20240729T155009-073e9654-3316-47cf-b37d-18a2dc9004a6/array-006.zarr/1.0\n",
      "tmp/cubed-20240729T155009-073e9654-3316-47cf-b37d-18a2dc9004a6/array-006.zarr/1.1\n"
     ]
    }
   ],
   "source": [
    "! find tmp | sort"
   ]
  },
  {
   "cell_type": "markdown",
   "id": "df3eebb4",
   "metadata": {},
   "source": [
    "We can look at the plan created for the computation by calling `visualize`."
   ]
  },
  {
   "cell_type": "code",
   "execution_count": 9,
   "id": "1aa9c506",
   "metadata": {},
   "outputs": [
    {
     "data": {
      "image/svg+xml": [
       "<svg xmlns=\"http://www.w3.org/2000/svg\" xmlns:xlink=\"http://www.w3.org/1999/xlink\" width=\"230pt\" height=\"319pt\" viewBox=\"0.00 0.00 229.75 318.75\">\n",
       "<g id=\"graph0\" class=\"graph\" transform=\"scale(1 1) rotate(0) translate(4 314.75)\">\n",
       "<polygon fill=\"white\" stroke=\"none\" points=\"-4,4 -4,-314.75 225.75,-314.75 225.75,4 -4,4\"/>\n",
       "<text text-anchor=\"start\" x=\"8\" y=\"-39.5\" font-family=\"Times,serif\" font-size=\"10.00\">num tasks: 5</text>\n",
       "<text text-anchor=\"start\" x=\"8\" y=\"-28.25\" font-family=\"Times,serif\" font-size=\"10.00\">max projected memory: 192 bytes</text>\n",
       "<text text-anchor=\"start\" x=\"8\" y=\"-17\" font-family=\"Times,serif\" font-size=\"10.00\">total nbytes written: 72 bytes</text>\n",
       "<text text-anchor=\"start\" x=\"8\" y=\"-5.75\" font-family=\"Times,serif\" font-size=\"10.00\">optimized: True</text>\n",
       "<!-- op&#45;004 -->\n",
       "<g id=\"node1\" class=\"node\">\n",
       "<title>op-004</title>\n",
       "<g id=\"a_node1\"><a xlink:title=\"name: op-004\n",
       "op: asarray\n",
       "calls: &lt;module&gt; -&gt; asarray\n",
       "line: 1 in &lt;module&gt;\">\n",
       "<path fill=\"none\" stroke=\"black\" d=\"M43.25,-310.75C43.25,-310.75 13.25,-310.75 13.25,-310.75 7.25,-310.75 1.25,-304.75 1.25,-298.75 1.25,-298.75 1.25,-286.75 1.25,-286.75 1.25,-280.75 7.25,-274.75 13.25,-274.75 13.25,-274.75 43.25,-274.75 43.25,-274.75 49.25,-274.75 55.25,-280.75 55.25,-286.75 55.25,-286.75 55.25,-298.75 55.25,-298.75 55.25,-304.75 49.25,-310.75 43.25,-310.75\"/>\n",
       "<text text-anchor=\"middle\" x=\"28.25\" y=\"-294.5\" font-family=\"Helvetica,sans-Serif\" font-size=\"10.00\">op-004</text>\n",
       "<text text-anchor=\"middle\" x=\"28.25\" y=\"-283.25\" font-family=\"Helvetica,sans-Serif\" font-size=\"10.00\">asarray</text>\n",
       "</a>\n",
       "</g>\n",
       "</g>\n",
       "<!-- array&#45;004 -->\n",
       "<g id=\"node2\" class=\"node\">\n",
       "<title>array-004</title>\n",
       "<g id=\"a_node2\"><a xlink:title=\"name: array-004\n",
       "variable: a\n",
       "shape: (3, 3)\n",
       "chunks: (2, 2)\n",
       "dtype: int64\n",
       "chunk memory: 32 bytes\">\n",
       "<polygon fill=\"none\" stroke=\"black\" points=\"56.5,-238.75 0,-238.75 0,-202.75 56.5,-202.75 56.5,-238.75\"/>\n",
       "<text text-anchor=\"middle\" x=\"28.25\" y=\"-222.5\" font-family=\"Helvetica,sans-Serif\" font-size=\"10.00\">array-004</text>\n",
       "<text text-anchor=\"middle\" x=\"28.25\" y=\"-211.25\" font-family=\"Helvetica,sans-Serif\" font-size=\"10.00\">a</text>\n",
       "</a>\n",
       "</g>\n",
       "</g>\n",
       "<!-- op&#45;004&#45;&gt;array&#45;004 -->\n",
       "<g id=\"edge1\" class=\"edge\">\n",
       "<title>op-004-&gt;array-004</title>\n",
       "<path fill=\"none\" stroke=\"black\" d=\"M28.25,-274.45C28.25,-267.16 28.25,-258.48 28.25,-250.29\"/>\n",
       "<polygon fill=\"black\" stroke=\"black\" points=\"31.75,-250.37 28.25,-240.37 24.75,-250.37 31.75,-250.37\"/>\n",
       "</g>\n",
       "<!-- op&#45;006 -->\n",
       "<g id=\"node5\" class=\"node\">\n",
       "<title>op-006</title>\n",
       "<g id=\"a_node5\"><a xlink:title=\"name: op-006\n",
       "op: blockwise\n",
       "projected memory: 192 bytes\n",
       "tasks: 4\n",
       "num input blocks: (1, 1)\n",
       "calls: &lt;module&gt; -&gt; add -&gt; elemwise -&gt; blockwise\n",
       "line: 3 in &lt;module&gt;\">\n",
       "<path fill=\"#dcbeff\" stroke=\"black\" d=\"M80.25,-166.75C80.25,-166.75 50.25,-166.75 50.25,-166.75 44.25,-166.75 38.25,-160.75 38.25,-154.75 38.25,-154.75 38.25,-137 38.25,-137 38.25,-131 44.25,-125 50.25,-125 50.25,-125 80.25,-125 80.25,-125 86.25,-125 92.25,-131 92.25,-137 92.25,-137 92.25,-154.75 92.25,-154.75 92.25,-160.75 86.25,-166.75 80.25,-166.75\"/>\n",
       "<text text-anchor=\"middle\" x=\"65.25\" y=\"-153.25\" font-family=\"Helvetica,sans-Serif\" font-size=\"10.00\">op-006</text>\n",
       "<text text-anchor=\"middle\" x=\"65.25\" y=\"-142\" font-family=\"Helvetica,sans-Serif\" font-size=\"10.00\">add</text>\n",
       "<text text-anchor=\"middle\" x=\"65.25\" y=\"-130.75\" font-family=\"Helvetica,sans-Serif\" font-size=\"10.00\">tasks: 4</text>\n",
       "</a>\n",
       "</g>\n",
       "</g>\n",
       "<!-- array&#45;004&#45;&gt;op&#45;006 -->\n",
       "<g id=\"edge2\" class=\"edge\">\n",
       "<title>array-004-&gt;op-006</title>\n",
       "<path fill=\"none\" stroke=\"black\" d=\"M37.02,-202.48C40.85,-194.94 45.45,-185.87 49.82,-177.26\"/>\n",
       "<polygon fill=\"black\" stroke=\"black\" points=\"52.88,-178.97 54.28,-168.47 46.64,-175.8 52.88,-178.97\"/>\n",
       "</g>\n",
       "<!-- op&#45;005 -->\n",
       "<g id=\"node3\" class=\"node\">\n",
       "<title>op-005</title>\n",
       "<g id=\"a_node3\"><a xlink:title=\"name: op-005\n",
       "op: asarray\n",
       "calls: &lt;module&gt; -&gt; asarray\n",
       "line: 2 in &lt;module&gt;\">\n",
       "<path fill=\"none\" stroke=\"black\" d=\"M118.25,-310.75C118.25,-310.75 88.25,-310.75 88.25,-310.75 82.25,-310.75 76.25,-304.75 76.25,-298.75 76.25,-298.75 76.25,-286.75 76.25,-286.75 76.25,-280.75 82.25,-274.75 88.25,-274.75 88.25,-274.75 118.25,-274.75 118.25,-274.75 124.25,-274.75 130.25,-280.75 130.25,-286.75 130.25,-286.75 130.25,-298.75 130.25,-298.75 130.25,-304.75 124.25,-310.75 118.25,-310.75\"/>\n",
       "<text text-anchor=\"middle\" x=\"103.25\" y=\"-294.5\" font-family=\"Helvetica,sans-Serif\" font-size=\"10.00\">op-005</text>\n",
       "<text text-anchor=\"middle\" x=\"103.25\" y=\"-283.25\" font-family=\"Helvetica,sans-Serif\" font-size=\"10.00\">asarray</text>\n",
       "</a>\n",
       "</g>\n",
       "</g>\n",
       "<!-- array&#45;005 -->\n",
       "<g id=\"node4\" class=\"node\">\n",
       "<title>array-005</title>\n",
       "<g id=\"a_node4\"><a xlink:title=\"name: array-005\n",
       "variable: b\n",
       "shape: (3, 3)\n",
       "chunks: (2, 2)\n",
       "dtype: int64\n",
       "chunk memory: 32 bytes\">\n",
       "<polygon fill=\"none\" stroke=\"black\" points=\"131.5,-238.75 75,-238.75 75,-202.75 131.5,-202.75 131.5,-238.75\"/>\n",
       "<text text-anchor=\"middle\" x=\"103.25\" y=\"-222.5\" font-family=\"Helvetica,sans-Serif\" font-size=\"10.00\">array-005</text>\n",
       "<text text-anchor=\"middle\" x=\"103.25\" y=\"-211.25\" font-family=\"Helvetica,sans-Serif\" font-size=\"10.00\">b</text>\n",
       "</a>\n",
       "</g>\n",
       "</g>\n",
       "<!-- op&#45;005&#45;&gt;array&#45;005 -->\n",
       "<g id=\"edge3\" class=\"edge\">\n",
       "<title>op-005-&gt;array-005</title>\n",
       "<path fill=\"none\" stroke=\"black\" d=\"M103.25,-274.45C103.25,-267.16 103.25,-258.48 103.25,-250.29\"/>\n",
       "<polygon fill=\"black\" stroke=\"black\" points=\"106.75,-250.37 103.25,-240.37 99.75,-250.37 106.75,-250.37\"/>\n",
       "</g>\n",
       "<!-- array&#45;005&#45;&gt;op&#45;006 -->\n",
       "<g id=\"edge4\" class=\"edge\">\n",
       "<title>array-005-&gt;op-006</title>\n",
       "<path fill=\"none\" stroke=\"black\" d=\"M94.24,-202.48C90.31,-194.94 85.58,-185.87 81.09,-177.26\"/>\n",
       "<polygon fill=\"black\" stroke=\"black\" points=\"84.24,-175.71 76.51,-168.47 78.03,-178.95 84.24,-175.71\"/>\n",
       "</g>\n",
       "<!-- array&#45;006 -->\n",
       "<g id=\"node6\" class=\"node\">\n",
       "<title>array-006</title>\n",
       "<g id=\"a_node6\"><a xlink:title=\"name: array-006\n",
       "variable: c\n",
       "shape: (3, 3)\n",
       "chunks: (2, 2)\n",
       "dtype: int64\n",
       "chunk memory: 32 bytes\n",
       "nbytes: 72 bytes\">\n",
       "<polygon fill=\"#ffd8b1\" stroke=\"black\" points=\"93.5,-89 37,-89 37,-53 93.5,-53 93.5,-89\"/>\n",
       "<text text-anchor=\"middle\" x=\"65.25\" y=\"-72.75\" font-family=\"Helvetica,sans-Serif\" font-size=\"10.00\">array-006</text>\n",
       "<text text-anchor=\"middle\" x=\"65.25\" y=\"-61.5\" font-family=\"Helvetica,sans-Serif\" font-size=\"10.00\">c</text>\n",
       "</a>\n",
       "</g>\n",
       "</g>\n",
       "<!-- op&#45;006&#45;&gt;array&#45;006 -->\n",
       "<g id=\"edge5\" class=\"edge\">\n",
       "<title>op-006-&gt;array-006</title>\n",
       "<path fill=\"none\" stroke=\"black\" d=\"M65.25,-124.58C65.25,-117.19 65.25,-108.7 65.25,-100.73\"/>\n",
       "<polygon fill=\"black\" stroke=\"black\" points=\"68.75,-100.74 65.25,-90.74 61.75,-100.74 68.75,-100.74\"/>\n",
       "</g>\n",
       "<!-- create&#45;arrays -->\n",
       "<g id=\"node7\" class=\"node\">\n",
       "<title>create-arrays</title>\n",
       "<g id=\"a_node7\"><a xlink:title=\"name: create-arrays\n",
       "op: create-arrays\n",
       "projected memory: 8 bytes\n",
       "tasks: 1\">\n",
       "<path fill=\"none\" stroke=\"black\" d=\"M209.75,-310.75C209.75,-310.75 160.75,-310.75 160.75,-310.75 154.75,-310.75 148.75,-304.75 148.75,-298.75 148.75,-298.75 148.75,-286.75 148.75,-286.75 148.75,-280.75 154.75,-274.75 160.75,-274.75 160.75,-274.75 209.75,-274.75 209.75,-274.75 215.75,-274.75 221.75,-280.75 221.75,-286.75 221.75,-286.75 221.75,-298.75 221.75,-298.75 221.75,-304.75 215.75,-310.75 209.75,-310.75\"/>\n",
       "<text text-anchor=\"middle\" x=\"185.25\" y=\"-294.5\" font-family=\"Helvetica,sans-Serif\" font-size=\"10.00\">create-arrays</text>\n",
       "<text text-anchor=\"middle\" x=\"185.25\" y=\"-283.25\" font-family=\"Helvetica,sans-Serif\" font-size=\"10.00\">tasks: 1</text>\n",
       "</a>\n",
       "</g>\n",
       "</g>\n",
       "<!-- arrays -->\n",
       "<g id=\"node8\" class=\"node\">\n",
       "<title>arrays</title>\n",
       "<g id=\"a_node8\"><a xlink:title=\"name: arrays\" target=\"None\">\n",
       "<polygon fill=\"none\" stroke=\"black\" points=\"212.25,-238.75 158.25,-238.75 158.25,-202.75 212.25,-202.75 212.25,-238.75\"/>\n",
       "<text text-anchor=\"middle\" x=\"185.25\" y=\"-216.88\" font-family=\"Helvetica,sans-Serif\" font-size=\"10.00\">arrays</text>\n",
       "</a>\n",
       "</g>\n",
       "</g>\n",
       "<!-- create&#45;arrays&#45;&gt;arrays -->\n",
       "<g id=\"edge6\" class=\"edge\">\n",
       "<title>create-arrays-&gt;arrays</title>\n",
       "<path fill=\"none\" stroke=\"black\" d=\"M185.25,-274.45C185.25,-267.16 185.25,-258.48 185.25,-250.29\"/>\n",
       "<polygon fill=\"black\" stroke=\"black\" points=\"188.75,-250.37 185.25,-240.37 181.75,-250.37 188.75,-250.37\"/>\n",
       "</g>\n",
       "</g>\n",
       "</svg>"
      ],
      "text/plain": [
       "<IPython.core.display.SVG object>"
      ]
     },
     "execution_count": 9,
     "metadata": {},
     "output_type": "execute_result"
    }
   ],
   "source": [
    "c.visualize()"
   ]
  },
  {
   "cell_type": "markdown",
   "id": "83389e25",
   "metadata": {},
   "source": [
    "Hover on an array to see its metadata (shape, chunks, and so on), as well as information about how much memory is needed to compute it and the number of tasks."
   ]
  },
  {
   "cell_type": "markdown",
   "id": "e74986d4",
   "metadata": {},
   "source": [
    "## Memory"
   ]
  },
  {
   "cell_type": "markdown",
   "id": "3191b881",
   "metadata": {},
   "source": [
    "Going back to `allowed_mem`, Cubed knows the sizes of the input chunks and how much memory will be needed for computing each output chunk. If this exceeds `allowed_mem` then an exception will be raised immediately (before `compute` is even called).\n",
    "\n",
    "For example, the arrays we are using are `float64` and so each element takes 8 bytes:"
   ]
  },
  {
   "cell_type": "code",
   "execution_count": 10,
   "id": "eb58fa76",
   "metadata": {},
   "outputs": [
    {
     "data": {
      "text/plain": [
       "8"
      ]
     },
     "execution_count": 10,
     "metadata": {},
     "output_type": "execute_result"
    }
   ],
   "source": [
    "a.dtype.itemsize"
   ]
  },
  {
   "cell_type": "markdown",
   "id": "8479cedf",
   "metadata": {},
   "source": [
    "Since the chunks are of size `(2, 2)`, this means each chunk occupies 32 bytes of memory. There are three chunks (two inputs and one output), and we double that to account for Zarr compression buffers, so we need `32 * 3 * 2 = 192` bytes of memory.\n",
    "\n",
    "So if we set the maximum memory to 100 (bytes) we get an error:"
   ]
  },
  {
   "cell_type": "code",
   "execution_count": 11,
   "id": "ca058f41",
   "metadata": {},
   "outputs": [
    {
     "name": "stdout",
     "output_type": "stream",
     "text": [
      "Projected blockwise memory (192) exceeds allowed_mem (100), including reserved_mem (0)\n"
     ]
    }
   ],
   "source": [
    "spec = cubed.Spec(work_dir=\"tmp\", allowed_mem=100)\n",
    "a = xp.asarray([[1, 2, 3], [4, 5, 6], [7, 8, 9]], chunks=(2, 2), spec=spec)\n",
    "b = xp.asarray([[1, 1, 1], [1, 1, 1], [1, 1, 1]], chunks=(2, 2), spec=spec)\n",
    "try:\n",
    "    c = xp.add(a, b)\n",
    "except ValueError as e:\n",
    "    print(e)"
   ]
  },
  {
   "cell_type": "markdown",
   "id": "265f68a9",
   "metadata": {},
   "source": [
    "## Executors"
   ]
  },
  {
   "cell_type": "markdown",
   "id": "a14730d4",
   "metadata": {},
   "source": [
    "All the computation so far has run in the current Python process. For larger, more realistic workloads, we can take advantage of all the cores on a machine by using the `processes` executor, or by running on multiple machines in the cloud.\n",
    "\n",
    "See https://github.com/cubed-dev/cubed/tree/main/examples for more details."
   ]
  }
 ],
 "metadata": {
  "kernelspec": {
   "display_name": "Python 3 (ipykernel)",
   "language": "python",
   "name": "python3"
  },
  "language_info": {
   "codemirror_mode": {
    "name": "ipython",
    "version": 3
   },
   "file_extension": ".py",
   "mimetype": "text/x-python",
   "name": "python",
   "nbconvert_exporter": "python",
   "pygments_lexer": "ipython3",
   "version": "3.9.18"
  }
 },
 "nbformat": 4,
 "nbformat_minor": 5
}
