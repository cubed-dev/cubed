{
 "cells": [
  {
   "cell_type": "markdown",
   "id": "9b0f6c53",
   "metadata": {},
   "source": [
    "# Analysing memory usage in Cubed\n",
    "\n",
    "We'll run a small computation with large chunks using Lithops in local mode."
   ]
  },
  {
   "cell_type": "code",
   "execution_count": 11,
   "id": "fcf419fc",
   "metadata": {},
   "outputs": [],
   "source": [
    "import logging\n",
    "\n",
    "import numpy as np\n",
    "import pandas as pd\n",
    "from tqdm.contrib.logging import logging_redirect_tqdm\n",
    "\n",
    "import cubed\n",
    "import cubed.array_api as xp\n",
    "import cubed.random\n",
    "from cubed.extensions.history import HistoryCallback\n",
    "from cubed.extensions.tqdm import TqdmProgressBar\n",
    "from cubed.runtime.executors.lithops import LithopsDagExecutor"
   ]
  },
  {
   "cell_type": "code",
   "execution_count": 2,
   "id": "12106563",
   "metadata": {},
   "outputs": [],
   "source": [
    "logging.basicConfig(level=logging.INFO)\n",
    "# turn off lithops own progress bar\n",
    "logging.getLogger(\"lithops.wait\").setLevel(logging.WARNING)\n",
    "# suppress harmless connection pool warnings\n",
    "logging.getLogger(\"urllib3.connectionpool\").setLevel(logging.ERROR)\n",
    "\n",
    "LITHOPS_LOCAL_CONFIG = {\"lithops\": {\"backend\": \"localhost\", \"storage\": \"localhost\"}}"
   ]
  },
  {
   "cell_type": "code",
   "execution_count": 3,
   "id": "933b71ff",
   "metadata": {},
   "outputs": [],
   "source": [
    "spec = cubed.Spec(None, max_mem=1_000_000_000)\n",
    "executor = LithopsDagExecutor(config=LITHOPS_LOCAL_CONFIG)"
   ]
  },
  {
   "cell_type": "code",
   "execution_count": 4,
   "id": "4ff037ad",
   "metadata": {},
   "outputs": [],
   "source": [
    "a = cubed.random.random(\n",
    "    (10000, 10000), chunks=(5000, 5000), spec=spec\n",
    ")  # 200MB chunks\n",
    "b = cubed.random.random(\n",
    "    (10000, 10000), chunks=(5000, 5000), spec=spec\n",
    ")  # 200MB chunks\n",
    "c = xp.add(a, b)"
   ]
  },
  {
   "cell_type": "code",
   "execution_count": 5,
   "id": "c61a524a",
   "metadata": {},
   "outputs": [
    {
     "data": {
      "image/svg+xml": [
       "<svg xmlns=\"http://www.w3.org/2000/svg\" xmlns:xlink=\"http://www.w3.org/1999/xlink\" width=\"555pt\" height=\"260pt\" viewBox=\"0.00 0.00 554.50 260.00\">\n",
       "<g id=\"graph0\" class=\"graph\" transform=\"scale(1 1) rotate(0) translate(4 256)\">\n",
       "<polygon fill=\"white\" stroke=\"transparent\" points=\"-4,4 -4,-256 550.5,-256 550.5,4 -4,4\"/>\n",
       "<!-- array&#45;001 -->\n",
       "<g id=\"node1\" class=\"node\">\n",
       "<title>array-001</title>\n",
       "<g id=\"a_node1\"><a xlink:title=\"shape: (2, 2)\n",
       "chunks: (1, 1)\n",
       "dtype: float64\n",
       "chunk memory: 8 bytes\n",
       "\n",
       "calls: &lt;cell line: 1&gt; -&gt; random -&gt; empty -&gt; full\" target=\"zarr.core.Array (2, 2) float64\">\n",
       "<polygon fill=\"none\" stroke=\"black\" points=\"104,-180 0,-180 0,-144 104,-144 104,-180\"/>\n",
       "<text text-anchor=\"middle\" x=\"52\" y=\"-158.3\" font-family=\"Helvetica,sans-Serif\" font-size=\"14.00\">array-001 (full)</text>\n",
       "</a>\n",
       "</g>\n",
       "</g>\n",
       "<!-- array&#45;004 -->\n",
       "<g id=\"node4\" class=\"node\">\n",
       "<title>array-004</title>\n",
       "<g id=\"a_node4\"><a xlink:title=\"shape: (10000, 10000)\n",
       "chunks: (5000, 5000)\n",
       "dtype: float64\n",
       "chunk memory: 200.0 MB\n",
       "\n",
       "task memory: 200.0 MB\n",
       "tasks: 4\n",
       "calls: &lt;cell line: 1&gt; -&gt; random -&gt; map_blocks -&gt; _map_blocks -&gt; blockwise\" target=\"zarr.core.Array (10000, 10000) float64\">\n",
       "<polygon fill=\"none\" stroke=\"black\" points=\"256,-108 110,-108 110,-72 256,-72 256,-108\"/>\n",
       "<text text-anchor=\"middle\" x=\"183\" y=\"-86.3\" font-family=\"Helvetica,sans-Serif\" font-size=\"14.00\">array-004 (blockwise)</text>\n",
       "</a>\n",
       "</g>\n",
       "</g>\n",
       "<!-- array&#45;001&#45;&gt;array&#45;004 -->\n",
       "<g id=\"edge1\" class=\"edge\">\n",
       "<title>array-001-&gt;array-004</title>\n",
       "<path fill=\"none\" stroke=\"black\" d=\"M84.05,-143.88C101.49,-134.55 123.27,-122.92 141.94,-112.94\"/>\n",
       "<polygon fill=\"black\" stroke=\"black\" points=\"143.66,-115.99 150.83,-108.19 140.36,-109.82 143.66,-115.99\"/>\n",
       "</g>\n",
       "<!-- array&#45;002 -->\n",
       "<g id=\"node2\" class=\"node\">\n",
       "<title>array-002</title>\n",
       "<g id=\"a_node2\"><a xlink:title=\"shape: (2, 2)\n",
       "chunks: (2, 2)\n",
       "dtype: int32\n",
       "chunk memory: 16 bytes\n",
       "\n",
       "calls: &lt;cell line: 1&gt; -&gt; random -&gt; map_blocks -&gt; asarray\" target=\"zarr.core.Array (2, 2) int32\">\n",
       "<polygon fill=\"none\" stroke=\"black\" points=\"256,-252 124,-252 124,-216 256,-216 256,-252\"/>\n",
       "<text text-anchor=\"middle\" x=\"190\" y=\"-230.3\" font-family=\"Helvetica,sans-Serif\" font-size=\"14.00\">array-002 (asarray)</text>\n",
       "</a>\n",
       "</g>\n",
       "</g>\n",
       "<!-- array&#45;003 -->\n",
       "<g id=\"node3\" class=\"node\">\n",
       "<title>array-003</title>\n",
       "<g id=\"a_node3\"><a xlink:title=\"shape: (2, 2)\n",
       "chunks: (1, 1)\n",
       "dtype: int32\n",
       "chunk memory: 4 bytes\n",
       "\n",
       "task memory: 16 bytes\n",
       "tasks: 1\n",
       "calls: &lt;cell line: 1&gt; -&gt; random -&gt; map_blocks -&gt; rechunk\" target=\"zarr.core.Array (2, 2) int32\">\n",
       "<polygon fill=\"none\" stroke=\"black\" points=\"257.5,-180 122.5,-180 122.5,-144 257.5,-144 257.5,-180\"/>\n",
       "<text text-anchor=\"middle\" x=\"190\" y=\"-158.3\" font-family=\"Helvetica,sans-Serif\" font-size=\"14.00\">array-003 (rechunk)</text>\n",
       "</a>\n",
       "</g>\n",
       "</g>\n",
       "<!-- array&#45;002&#45;&gt;array&#45;003 -->\n",
       "<g id=\"edge2\" class=\"edge\">\n",
       "<title>array-002-&gt;array-003</title>\n",
       "<path fill=\"none\" stroke=\"black\" d=\"M190,-215.7C190,-207.98 190,-198.71 190,-190.11\"/>\n",
       "<polygon fill=\"black\" stroke=\"black\" points=\"193.5,-190.1 190,-180.1 186.5,-190.1 193.5,-190.1\"/>\n",
       "</g>\n",
       "<!-- array&#45;003&#45;&gt;array&#45;004 -->\n",
       "<g id=\"edge3\" class=\"edge\">\n",
       "<title>array-003-&gt;array-004</title>\n",
       "<path fill=\"none\" stroke=\"black\" d=\"M188.27,-143.7C187.5,-135.98 186.57,-126.71 185.71,-118.11\"/>\n",
       "<polygon fill=\"black\" stroke=\"black\" points=\"189.19,-117.71 184.71,-108.1 182.22,-118.4 189.19,-117.71\"/>\n",
       "</g>\n",
       "<!-- array&#45;009 -->\n",
       "<g id=\"node9\" class=\"node\">\n",
       "<title>array-009</title>\n",
       "<g id=\"a_node9\"><a xlink:title=\"shape: (10000, 10000)\n",
       "chunks: (5000, 5000)\n",
       "dtype: float64\n",
       "chunk memory: 200.0 MB\n",
       "\n",
       "task memory: 600.0 MB\n",
       "tasks: 4\n",
       "calls: &lt;cell line: 7&gt; -&gt; add -&gt; elemwise -&gt; blockwise\" target=\"zarr.core.Array (10000, 10000) float64\">\n",
       "<polygon fill=\"none\" stroke=\"black\" points=\"338,-36 192,-36 192,0 338,0 338,-36\"/>\n",
       "<text text-anchor=\"middle\" x=\"265\" y=\"-14.3\" font-family=\"Helvetica,sans-Serif\" font-size=\"14.00\">array-009 (blockwise)</text>\n",
       "</a>\n",
       "</g>\n",
       "</g>\n",
       "<!-- array&#45;004&#45;&gt;array&#45;009 -->\n",
       "<g id=\"edge4\" class=\"edge\">\n",
       "<title>array-004-&gt;array-009</title>\n",
       "<path fill=\"none\" stroke=\"black\" d=\"M203.27,-71.7C213.5,-62.97 226.06,-52.24 237.18,-42.75\"/>\n",
       "<polygon fill=\"black\" stroke=\"black\" points=\"239.63,-45.26 244.96,-36.1 235.09,-39.94 239.63,-45.26\"/>\n",
       "</g>\n",
       "<!-- array&#45;005 -->\n",
       "<g id=\"node5\" class=\"node\">\n",
       "<title>array-005</title>\n",
       "<g id=\"a_node5\"><a xlink:title=\"shape: (2, 2)\n",
       "chunks: (1, 1)\n",
       "dtype: float64\n",
       "chunk memory: 8 bytes\n",
       "\n",
       "calls: &lt;cell line: 4&gt; -&gt; random -&gt; empty -&gt; full\" target=\"zarr.core.Array (2, 2) float64\">\n",
       "<polygon fill=\"none\" stroke=\"black\" points=\"393,-180 289,-180 289,-144 393,-144 393,-180\"/>\n",
       "<text text-anchor=\"middle\" x=\"341\" y=\"-158.3\" font-family=\"Helvetica,sans-Serif\" font-size=\"14.00\">array-005 (full)</text>\n",
       "</a>\n",
       "</g>\n",
       "</g>\n",
       "<!-- array&#45;008 -->\n",
       "<g id=\"node8\" class=\"node\">\n",
       "<title>array-008</title>\n",
       "<g id=\"a_node8\"><a xlink:title=\"shape: (10000, 10000)\n",
       "chunks: (5000, 5000)\n",
       "dtype: float64\n",
       "chunk memory: 200.0 MB\n",
       "\n",
       "task memory: 200.0 MB\n",
       "tasks: 4\n",
       "calls: &lt;cell line: 4&gt; -&gt; random -&gt; map_blocks -&gt; _map_blocks -&gt; blockwise\" target=\"zarr.core.Array (10000, 10000) float64\">\n",
       "<polygon fill=\"none\" stroke=\"black\" points=\"420,-108 274,-108 274,-72 420,-72 420,-108\"/>\n",
       "<text text-anchor=\"middle\" x=\"347\" y=\"-86.3\" font-family=\"Helvetica,sans-Serif\" font-size=\"14.00\">array-008 (blockwise)</text>\n",
       "</a>\n",
       "</g>\n",
       "</g>\n",
       "<!-- array&#45;005&#45;&gt;array&#45;008 -->\n",
       "<g id=\"edge5\" class=\"edge\">\n",
       "<title>array-005-&gt;array-008</title>\n",
       "<path fill=\"none\" stroke=\"black\" d=\"M342.48,-143.7C343.14,-135.98 343.94,-126.71 344.68,-118.11\"/>\n",
       "<polygon fill=\"black\" stroke=\"black\" points=\"348.17,-118.37 345.53,-108.1 341.19,-117.77 348.17,-118.37\"/>\n",
       "</g>\n",
       "<!-- array&#45;006 -->\n",
       "<g id=\"node6\" class=\"node\">\n",
       "<title>array-006</title>\n",
       "<g id=\"a_node6\"><a xlink:title=\"shape: (2, 2)\n",
       "chunks: (2, 2)\n",
       "dtype: int32\n",
       "chunk memory: 16 bytes\n",
       "\n",
       "calls: &lt;cell line: 4&gt; -&gt; random -&gt; map_blocks -&gt; asarray\" target=\"zarr.core.Array (2, 2) int32\">\n",
       "<polygon fill=\"none\" stroke=\"black\" points=\"545,-252 413,-252 413,-216 545,-216 545,-252\"/>\n",
       "<text text-anchor=\"middle\" x=\"479\" y=\"-230.3\" font-family=\"Helvetica,sans-Serif\" font-size=\"14.00\">array-006 (asarray)</text>\n",
       "</a>\n",
       "</g>\n",
       "</g>\n",
       "<!-- array&#45;007 -->\n",
       "<g id=\"node7\" class=\"node\">\n",
       "<title>array-007</title>\n",
       "<g id=\"a_node7\"><a xlink:title=\"shape: (2, 2)\n",
       "chunks: (1, 1)\n",
       "dtype: int32\n",
       "chunk memory: 4 bytes\n",
       "\n",
       "task memory: 16 bytes\n",
       "tasks: 1\n",
       "calls: &lt;cell line: 4&gt; -&gt; random -&gt; map_blocks -&gt; rechunk\" target=\"zarr.core.Array (2, 2) int32\">\n",
       "<polygon fill=\"none\" stroke=\"black\" points=\"546.5,-180 411.5,-180 411.5,-144 546.5,-144 546.5,-180\"/>\n",
       "<text text-anchor=\"middle\" x=\"479\" y=\"-158.3\" font-family=\"Helvetica,sans-Serif\" font-size=\"14.00\">array-007 (rechunk)</text>\n",
       "</a>\n",
       "</g>\n",
       "</g>\n",
       "<!-- array&#45;006&#45;&gt;array&#45;007 -->\n",
       "<g id=\"edge6\" class=\"edge\">\n",
       "<title>array-006-&gt;array-007</title>\n",
       "<path fill=\"none\" stroke=\"black\" d=\"M479,-215.7C479,-207.98 479,-198.71 479,-190.11\"/>\n",
       "<polygon fill=\"black\" stroke=\"black\" points=\"482.5,-190.1 479,-180.1 475.5,-190.1 482.5,-190.1\"/>\n",
       "</g>\n",
       "<!-- array&#45;007&#45;&gt;array&#45;008 -->\n",
       "<g id=\"edge7\" class=\"edge\">\n",
       "<title>array-007-&gt;array-008</title>\n",
       "<path fill=\"none\" stroke=\"black\" d=\"M446.71,-143.88C429.13,-134.55 407.19,-122.92 388.37,-112.94\"/>\n",
       "<polygon fill=\"black\" stroke=\"black\" points=\"389.89,-109.78 379.41,-108.19 386.61,-115.97 389.89,-109.78\"/>\n",
       "</g>\n",
       "<!-- array&#45;008&#45;&gt;array&#45;009 -->\n",
       "<g id=\"edge8\" class=\"edge\">\n",
       "<title>array-008-&gt;array-009</title>\n",
       "<path fill=\"none\" stroke=\"black\" d=\"M326.73,-71.7C316.5,-62.97 303.94,-52.24 292.82,-42.75\"/>\n",
       "<polygon fill=\"black\" stroke=\"black\" points=\"294.91,-39.94 285.04,-36.1 290.37,-45.26 294.91,-39.94\"/>\n",
       "</g>\n",
       "</g>\n",
       "</svg>"
      ],
      "text/plain": [
       "<IPython.core.display.SVG object>"
      ]
     },
     "execution_count": 5,
     "metadata": {},
     "output_type": "execute_result"
    }
   ],
   "source": [
    "c.visualize()"
   ]
  },
  {
   "cell_type": "markdown",
   "id": "7458b1ab",
   "metadata": {},
   "source": [
    "Run the computation"
   ]
  },
  {
   "cell_type": "code",
   "execution_count": 7,
   "id": "bc2542e3",
   "metadata": {},
   "outputs": [
    {
     "data": {
      "application/vnd.jupyter.widget-view+json": {
       "model_id": "f5f375a143084b5abb5d819afc1cd77c",
       "version_major": 2,
       "version_minor": 0
      },
      "text/plain": [
       "array-003:   0%|          | 0/1 [00:00<?, ?it/s]"
      ]
     },
     "metadata": {},
     "output_type": "display_data"
    },
    {
     "data": {
      "application/vnd.jupyter.widget-view+json": {
       "model_id": "01777a19e31a4f20b9a2bbf602d73547",
       "version_major": 2,
       "version_minor": 0
      },
      "text/plain": [
       "array-007:   0%|          | 0/1 [00:00<?, ?it/s]"
      ]
     },
     "metadata": {},
     "output_type": "display_data"
    },
    {
     "data": {
      "application/vnd.jupyter.widget-view+json": {
       "model_id": "240e10849cc34b88b5ecd2d3045df21c",
       "version_major": 2,
       "version_minor": 0
      },
      "text/plain": [
       "array-004:   0%|          | 0/4 [00:00<?, ?it/s]"
      ]
     },
     "metadata": {},
     "output_type": "display_data"
    },
    {
     "data": {
      "application/vnd.jupyter.widget-view+json": {
       "model_id": "1671453a2c7c49d69beb1b829ec78df8",
       "version_major": 2,
       "version_minor": 0
      },
      "text/plain": [
       "array-008:   0%|          | 0/4 [00:00<?, ?it/s]"
      ]
     },
     "metadata": {},
     "output_type": "display_data"
    },
    {
     "data": {
      "application/vnd.jupyter.widget-view+json": {
       "model_id": "5e4639b4d0124e1eb22869e1ead1ed58",
       "version_major": 2,
       "version_minor": 0
      },
      "text/plain": [
       "array-009:   0%|          | 0/4 [00:00<?, ?it/s]"
      ]
     },
     "metadata": {},
     "output_type": "display_data"
    },
    {
     "name": "stderr",
     "output_type": "stream",
     "text": [
      "INFO:lithops.config:Lithops v2.6.0\n",
      "INFO:lithops.storage.backends.localhost.localhost:Localhost storage client created\n",
      "INFO:lithops.localhost.localhost:Localhost compute client created\n",
      "INFO:lithops.invokers:ExecutorID 7c5654-0 | JobID M000 - Selected Runtime: python3.8 \n",
      "INFO:lithops.invokers:ExecutorID 7c5654-0 | JobID M000 - Starting function invocation: sf() - Total: 1 activations\n",
      "INFO:lithops.invokers:ExecutorID 7c5654-0 | JobID M000 - View execution logs at /private/var/folders/jz/_qsj6p5j2gg4s064yzhrbtcw0000gn/T/lithops/logs/7c5654-0-M000.log\n",
      "INFO:lithops.storage.backends.localhost.localhost:Localhost storage client created\n",
      "INFO:lithops.invokers:ExecutorID 7c5654-0 | JobID M001 - Selected Runtime: python3.8 \n",
      "INFO:lithops.invokers:ExecutorID 7c5654-0 | JobID M001 - Starting function invocation: sf() - Total: 1 activations\n",
      "INFO:lithops.invokers:ExecutorID 7c5654-0 | JobID M001 - View execution logs at /private/var/folders/jz/_qsj6p5j2gg4s064yzhrbtcw0000gn/T/lithops/logs/7c5654-0-M001.log\n",
      "INFO:lithops.storage.backends.localhost.localhost:Localhost storage client created\n",
      "INFO:lithops.invokers:ExecutorID 7c5654-0 | JobID M002 - Selected Runtime: python3.8 \n",
      "INFO:lithops.invokers:ExecutorID 7c5654-0 | JobID M002 - Starting function invocation: sf() - Total: 4 activations\n",
      "INFO:lithops.invokers:ExecutorID 7c5654-0 | JobID M002 - View execution logs at /private/var/folders/jz/_qsj6p5j2gg4s064yzhrbtcw0000gn/T/lithops/logs/7c5654-0-M002.log\n",
      "INFO:lithops.storage.backends.localhost.localhost:Localhost storage client created\n",
      "INFO:lithops.storage.backends.localhost.localhost:Localhost storage client created\n",
      "INFO:lithops.storage.backends.localhost.localhost:Localhost storage client created\n",
      "INFO:lithops.storage.backends.localhost.localhost:Localhost storage client created\n",
      "INFO:lithops.invokers:ExecutorID 7c5654-0 | JobID M003 - Selected Runtime: python3.8 \n",
      "INFO:lithops.invokers:ExecutorID 7c5654-0 | JobID M003 - Starting function invocation: sf() - Total: 4 activations\n",
      "INFO:lithops.invokers:ExecutorID 7c5654-0 | JobID M003 - View execution logs at /private/var/folders/jz/_qsj6p5j2gg4s064yzhrbtcw0000gn/T/lithops/logs/7c5654-0-M003.log\n",
      "INFO:lithops.storage.backends.localhost.localhost:Localhost storage client created\n",
      "INFO:lithops.storage.backends.localhost.localhost:Localhost storage client created\n",
      "INFO:lithops.storage.backends.localhost.localhost:Localhost storage client created\n",
      "INFO:lithops.storage.backends.localhost.localhost:Localhost storage client created\n",
      "INFO:lithops.invokers:ExecutorID 7c5654-0 | JobID M004 - Selected Runtime: python3.8 \n",
      "INFO:lithops.invokers:ExecutorID 7c5654-0 | JobID M004 - Starting function invocation: sf() - Total: 4 activations\n",
      "INFO:lithops.invokers:ExecutorID 7c5654-0 | JobID M004 - View execution logs at /private/var/folders/jz/_qsj6p5j2gg4s064yzhrbtcw0000gn/T/lithops/logs/7c5654-0-M004.log\n",
      "INFO:lithops.storage.backends.localhost.localhost:Localhost storage client created\n",
      "INFO:lithops.storage.backends.localhost.localhost:Localhost storage client created\n",
      "INFO:lithops.storage.backends.localhost.localhost:Localhost storage client created\n",
      "INFO:lithops.storage.backends.localhost.localhost:Localhost storage client created\n"
     ]
    }
   ],
   "source": [
    "with logging_redirect_tqdm():\n",
    "    progress = TqdmProgressBar()\n",
    "    hist = HistoryCallback()\n",
    "    c.compute(\n",
    "        return_stored=False,\n",
    "        executor=executor,\n",
    "        callbacks=[progress, hist],\n",
    "    )"
   ]
  },
  {
   "cell_type": "code",
   "execution_count": 9,
   "id": "52fd274a",
   "metadata": {},
   "outputs": [
    {
     "name": "stdout",
     "output_type": "stream",
     "text": [
      "total 16\r\n",
      "-rw-r--r--  1 tom  staff   184 14 Jul 14:03 plan-1657803821.csv\r\n",
      "-rw-r--r--  1 tom  staff  1561 14 Jul 14:03 stats-1657803821.csv\r\n"
     ]
    }
   ],
   "source": [
    "! ls -l history"
   ]
  },
  {
   "cell_type": "markdown",
   "id": "1a35fb98",
   "metadata": {},
   "source": [
    "Analyse memory usage"
   ]
  },
  {
   "cell_type": "code",
   "execution_count": 15,
   "id": "cce0f195",
   "metadata": {},
   "outputs": [
    {
     "data": {
      "text/html": [
       "<div>\n",
       "<style scoped>\n",
       "    .dataframe tbody tr th:only-of-type {\n",
       "        vertical-align: middle;\n",
       "    }\n",
       "\n",
       "    .dataframe tbody tr th {\n",
       "        vertical-align: top;\n",
       "    }\n",
       "\n",
       "    .dataframe thead th {\n",
       "        text-align: right;\n",
       "    }\n",
       "</style>\n",
       "<table border=\"1\" class=\"dataframe\">\n",
       "  <thead>\n",
       "    <tr style=\"text-align: right;\">\n",
       "      <th></th>\n",
       "      <th>array_name</th>\n",
       "      <th>peak_mem_end_mb_max</th>\n",
       "      <th>peak_mem_delta_mb_min</th>\n",
       "      <th>peak_mem_delta_mb_mean</th>\n",
       "      <th>peak_mem_delta_mb_max</th>\n",
       "      <th>op_name</th>\n",
       "      <th>required_mem_mb</th>\n",
       "      <th>num_tasks</th>\n",
       "      <th>oversubscription_factor</th>\n",
       "    </tr>\n",
       "  </thead>\n",
       "  <tbody>\n",
       "    <tr>\n",
       "      <th>0</th>\n",
       "      <td>array-003</td>\n",
       "      <td>107.307008</td>\n",
       "      <td>0.061440</td>\n",
       "      <td>0.061440</td>\n",
       "      <td>0.061440</td>\n",
       "      <td>rechunk</td>\n",
       "      <td>0.000016</td>\n",
       "      <td>1</td>\n",
       "      <td>NaN</td>\n",
       "    </tr>\n",
       "    <tr>\n",
       "      <th>1</th>\n",
       "      <td>array-004</td>\n",
       "      <td>659.726336</td>\n",
       "      <td>551.559168</td>\n",
       "      <td>551.563264</td>\n",
       "      <td>551.567360</td>\n",
       "      <td>blockwise</td>\n",
       "      <td>200.000012</td>\n",
       "      <td>4</td>\n",
       "      <td>2.757837</td>\n",
       "    </tr>\n",
       "    <tr>\n",
       "      <th>2</th>\n",
       "      <td>array-007</td>\n",
       "      <td>107.433984</td>\n",
       "      <td>0.061440</td>\n",
       "      <td>0.061440</td>\n",
       "      <td>0.061440</td>\n",
       "      <td>rechunk</td>\n",
       "      <td>0.000016</td>\n",
       "      <td>1</td>\n",
       "      <td>NaN</td>\n",
       "    </tr>\n",
       "    <tr>\n",
       "      <th>3</th>\n",
       "      <td>array-008</td>\n",
       "      <td>659.771392</td>\n",
       "      <td>551.559168</td>\n",
       "      <td>551.563264</td>\n",
       "      <td>551.575552</td>\n",
       "      <td>blockwise</td>\n",
       "      <td>200.000012</td>\n",
       "      <td>4</td>\n",
       "      <td>2.757878</td>\n",
       "    </tr>\n",
       "    <tr>\n",
       "      <th>4</th>\n",
       "      <td>array-009</td>\n",
       "      <td>756.002816</td>\n",
       "      <td>630.452224</td>\n",
       "      <td>635.270144</td>\n",
       "      <td>648.511488</td>\n",
       "      <td>blockwise</td>\n",
       "      <td>600.000000</td>\n",
       "      <td>4</td>\n",
       "      <td>1.080852</td>\n",
       "    </tr>\n",
       "  </tbody>\n",
       "</table>\n",
       "</div>"
      ],
      "text/plain": [
       "  array_name  peak_mem_end_mb_max  peak_mem_delta_mb_min  \\\n",
       "0  array-003           107.307008               0.061440   \n",
       "1  array-004           659.726336             551.559168   \n",
       "2  array-007           107.433984               0.061440   \n",
       "3  array-008           659.771392             551.559168   \n",
       "4  array-009           756.002816             630.452224   \n",
       "\n",
       "   peak_mem_delta_mb_mean  peak_mem_delta_mb_max    op_name  required_mem_mb  \\\n",
       "0                0.061440               0.061440    rechunk         0.000016   \n",
       "1              551.563264             551.567360  blockwise       200.000012   \n",
       "2                0.061440               0.061440    rechunk         0.000016   \n",
       "3              551.563264             551.575552  blockwise       200.000012   \n",
       "4              635.270144             648.511488  blockwise       600.000000   \n",
       "\n",
       "   num_tasks  oversubscription_factor  \n",
       "0          1                      NaN  \n",
       "1          4                 2.757837  \n",
       "2          1                      NaN  \n",
       "3          4                 2.757878  \n",
       "4          4                 1.080852  "
      ]
     },
     "execution_count": 15,
     "metadata": {},
     "output_type": "execute_result"
    }
   ],
   "source": [
    "plan_df = pd.read_csv(\"history/plan-1657803821.csv\")\n",
    "stats_df = pd.read_csv(\"history/stats-1657803821.csv\")\n",
    "\n",
    "# convert memory to MB\n",
    "plan_df[\"required_mem_mb\"] = plan_df[\"required_mem\"] / 1_000_000\n",
    "plan_df = plan_df[[\"array_name\", \"op_name\", \"required_mem_mb\", \"num_tasks\"]]\n",
    "stats_df[\"peak_mem_start_mb\"] = stats_df[\"peak_memory_start\"] / 1_000_000\n",
    "stats_df[\"peak_mem_end_mb\"] = stats_df[\"peak_memory_end\"] / 1_000_000\n",
    "stats_df[\"peak_mem_delta_mb\"] = (\n",
    "    stats_df[\"peak_mem_end_mb\"] - stats_df[\"peak_mem_start_mb\"]\n",
    ")\n",
    "\n",
    "# find per-array stats\n",
    "df = stats_df.groupby(\"array_name\", as_index=False).agg(\n",
    "    {\n",
    "        \"peak_mem_end_mb\": [\"max\"],\n",
    "        \"peak_mem_delta_mb\": [\"min\", \"mean\", \"max\"],\n",
    "    }\n",
    ")\n",
    "\n",
    "# flatten multi-index and merge with plan\n",
    "df.columns = [\"_\".join(a).rstrip(\"_\") for a in df.columns.to_flat_index()]\n",
    "df = df.merge(plan_df, on=\"array_name\")\n",
    "\n",
    "# calculate memory oversubscription factor to find problematic computations\n",
    "def oversubscription_factor(row):\n",
    "    if row[\"required_mem_mb\"] < 1:\n",
    "        # numbers are not meaningful for small arrays\n",
    "        return np.nan\n",
    "    return row[\"peak_mem_delta_mb_max\"] / row[\"required_mem_mb\"]\n",
    "df[\"oversubscription_factor\"] = df.apply(lambda row: oversubscription_factor(row), axis=1)\n",
    "\n",
    "df"
   ]
  },
  {
   "cell_type": "code",
   "execution_count": null,
   "id": "1a99bf12",
   "metadata": {},
   "outputs": [],
   "source": []
  }
 ],
 "metadata": {
  "kernelspec": {
   "display_name": "Python 3 (ipykernel)",
   "language": "python",
   "name": "python3"
  },
  "language_info": {
   "codemirror_mode": {
    "name": "ipython",
    "version": 3
   },
   "file_extension": ".py",
   "mimetype": "text/x-python",
   "name": "python",
   "nbconvert_exporter": "python",
   "pygments_lexer": "ipython3",
   "version": "3.8.13"
  }
 },
 "nbformat": 4,
 "nbformat_minor": 5
}
