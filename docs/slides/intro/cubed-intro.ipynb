{
 "cells": [
  {
   "cell_type": "markdown",
   "id": "a1b16cc7",
   "metadata": {
    "slideshow": {
     "slide_type": "slide"
    }
   },
   "source": [
    "# Cubed: an introduction\n",
    "\n",
    "Tom White, June 2024"
   ]
  },
  {
   "cell_type": "markdown",
   "id": "6b1259f1",
   "metadata": {
    "slideshow": {
     "slide_type": "slide"
    }
   },
   "source": [
    "# Idea\n",
    "\n",
    "Use Zarr as the underlying intermediate persistent storage between array operations.\n",
    "\n",
    "![Cubed idea](cubed-idea.svg)\n",
    "\n",
    "Tasks operate on Zarr chunks.\n",
    "\n",
    "Tasks are embarassingly parallel, and their runtime memory can be tightly controlled."
   ]
  },
  {
   "cell_type": "markdown",
   "id": "bc1695ae",
   "metadata": {
    "slideshow": {
     "slide_type": "slide"
    }
   },
   "source": [
    "# Demo\n",
    "\n",
    "Cubed implements the [Python Array API standard](https://data-apis.org/array-api/latest/)"
   ]
  },
  {
   "cell_type": "code",
   "execution_count": 1,
   "id": "3d5df36e",
   "metadata": {
    "slideshow": {
     "slide_type": "fragment"
    }
   },
   "outputs": [],
   "source": [
    "import cubed.array_api as xp\n",
    "a = xp.asarray([[1, 2, 3], [4, 5, 6], [7, 8, 9]], chunks=(2, 2))"
   ]
  },
  {
   "cell_type": "markdown",
   "id": "ef575255",
   "metadata": {
    "slideshow": {
     "slide_type": "fragment"
    }
   },
   "source": [
    "Notice that we specify chunks, just like in Dask Array."
   ]
  },
  {
   "cell_type": "code",
   "execution_count": 2,
   "id": "c073e911",
   "metadata": {
    "slideshow": {
     "slide_type": "fragment"
    }
   },
   "outputs": [],
   "source": [
    "b = xp.asarray([[1, 1, 1], [1, 1, 1], [1, 1, 1]], chunks=(2, 2))\n",
    "c = xp.add(a, b)"
   ]
  },
  {
   "cell_type": "markdown",
   "id": "86d7d212",
   "metadata": {
    "slideshow": {
     "slide_type": "fragment"
    }
   },
   "source": [
    "Cubed uses lazy evaluation, so nothing has been computed yet."
   ]
  },
  {
   "cell_type": "code",
   "execution_count": 3,
   "id": "d59f9b0a",
   "metadata": {
    "slideshow": {
     "slide_type": "fragment"
    }
   },
   "outputs": [
    {
     "data": {
      "text/plain": [
       "array([[ 2,  3,  4],\n",
       "       [ 5,  6,  7],\n",
       "       [ 8,  9, 10]])"
      ]
     },
     "execution_count": 3,
     "metadata": {},
     "output_type": "execute_result"
    }
   ],
   "source": [
    "c.compute()"
   ]
  },
  {
   "cell_type": "markdown",
   "id": "821b8c57",
   "metadata": {
    "slideshow": {
     "slide_type": "slide"
    }
   },
   "source": [
    "# Primitives\n",
    "\n",
    "* __Blockwise__: applies a function to multiple blocks from multiple inputs\n",
    "* __Rechunk__: changes chunking, without changing shape/dtype\n",
    "\n",
    "Dask introduced both of these operations.\n",
    "\n",
    "__Almost all__ array operations can be implemented using these two primitives!"
   ]
  },
  {
   "cell_type": "markdown",
   "id": "48cd218a",
   "metadata": {
    "slideshow": {
     "slide_type": "slide"
    }
   },
   "source": [
    "# Design\n",
    "\n",
    "Cubed is composed of five layers: from the storage layer at the bottom, to the Array API layer at the top: \n",
    "\n",
    "![Five layer diagram](../../images/design.svg)"
   ]
  },
  {
   "cell_type": "markdown",
   "id": "40128904",
   "metadata": {
    "slideshow": {
     "slide_type": "slide"
    }
   },
   "source": [
    "# Core and Primitive Operations\n",
    "\n",
    "![Core and Primitive Operations](../../images/ops.dot.svg)"
   ]
  },
  {
   "cell_type": "markdown",
   "id": "ffcedf91",
   "metadata": {
    "slideshow": {
     "slide_type": "slide"
    }
   },
   "source": [
    "# Example: `map_direct`\n",
    "\n",
    "![`map_direct`](../../images/map_direct.svg)\n",
    "\n",
    "Each block in the output array is read directly from one or more blocks from the inputs.\n",
    "\n",
    "Can cross block boundaries."
   ]
  },
  {
   "cell_type": "markdown",
   "id": "451285f2",
   "metadata": {
    "slideshow": {
     "slide_type": "slide"
    }
   },
   "source": [
    "# Example: `reduction`\n",
    "\n",
    "![`reduction`](../../images/reduction_new.svg)\n",
    "\n",
    "Implemented using multiple rounds of a tree reduce operation followed by a final aggregation."
   ]
  },
  {
   "cell_type": "markdown",
   "id": "b3785e95",
   "metadata": {
    "slideshow": {
     "slide_type": "slide"
    }
   },
   "source": [
    "# Computation plan\n",
    "\n",
    "Cubed creates a computation _plan_, which is a directed acyclic graph (DAG)."
   ]
  },
  {
   "cell_type": "code",
   "execution_count": 4,
   "id": "a0a5a232",
   "metadata": {
    "slideshow": {
     "slide_type": "fragment"
    }
   },
   "outputs": [
    {
     "data": {
      "image/svg+xml": [
       "<svg xmlns=\"http://www.w3.org/2000/svg\" xmlns:xlink=\"http://www.w3.org/1999/xlink\" width=\"230pt\" height=\"319pt\" viewBox=\"0.00 0.00 229.75 318.75\">\n",
       "<g id=\"graph0\" class=\"graph\" transform=\"scale(1 1) rotate(0) translate(4 314.75)\">\n",
       "<polygon fill=\"white\" stroke=\"none\" points=\"-4,4 -4,-314.75 225.75,-314.75 225.75,4 -4,4\"/>\n",
       "<text text-anchor=\"start\" x=\"8\" y=\"-39.5\" font-family=\"Times,serif\" font-size=\"10.00\">num tasks: 5</text>\n",
       "<text text-anchor=\"start\" x=\"8\" y=\"-28.25\" font-family=\"Times,serif\" font-size=\"10.00\">max projected memory: 100.0 MB</text>\n",
       "<text text-anchor=\"start\" x=\"8\" y=\"-17\" font-family=\"Times,serif\" font-size=\"10.00\">total nbytes written: 72 bytes</text>\n",
       "<text text-anchor=\"start\" x=\"8\" y=\"-5.75\" font-family=\"Times,serif\" font-size=\"10.00\">optimized: True</text>\n",
       "<!-- op&#45;001 -->\n",
       "<g id=\"node1\" class=\"node\">\n",
       "<title>op-001</title>\n",
       "<g id=\"a_node1\"><a xlink:title=\"name: op-001\n",
       "op: asarray\n",
       "calls: &lt;module&gt; -&gt; asarray\n",
       "line: 2 in &lt;module&gt;\">\n",
       "<path fill=\"none\" stroke=\"black\" d=\"M43.25,-310.75C43.25,-310.75 13.25,-310.75 13.25,-310.75 7.25,-310.75 1.25,-304.75 1.25,-298.75 1.25,-298.75 1.25,-286.75 1.25,-286.75 1.25,-280.75 7.25,-274.75 13.25,-274.75 13.25,-274.75 43.25,-274.75 43.25,-274.75 49.25,-274.75 55.25,-280.75 55.25,-286.75 55.25,-286.75 55.25,-298.75 55.25,-298.75 55.25,-304.75 49.25,-310.75 43.25,-310.75\"/>\n",
       "<text text-anchor=\"middle\" x=\"28.25\" y=\"-294.5\" font-family=\"Helvetica,sans-Serif\" font-size=\"10.00\">op-001</text>\n",
       "<text text-anchor=\"middle\" x=\"28.25\" y=\"-283.25\" font-family=\"Helvetica,sans-Serif\" font-size=\"10.00\">asarray</text>\n",
       "</a>\n",
       "</g>\n",
       "</g>\n",
       "<!-- array&#45;001 -->\n",
       "<g id=\"node2\" class=\"node\">\n",
       "<title>array-001</title>\n",
       "<g id=\"a_node2\"><a xlink:title=\"name: array-001\n",
       "variable: a\n",
       "shape: (3, 3)\n",
       "chunks: (2, 2)\n",
       "dtype: int64\n",
       "chunk memory: 32 bytes\">\n",
       "<polygon fill=\"none\" stroke=\"black\" points=\"56.5,-238.75 0,-238.75 0,-202.75 56.5,-202.75 56.5,-238.75\"/>\n",
       "<text text-anchor=\"middle\" x=\"28.25\" y=\"-222.5\" font-family=\"Helvetica,sans-Serif\" font-size=\"10.00\">array-001</text>\n",
       "<text text-anchor=\"middle\" x=\"28.25\" y=\"-211.25\" font-family=\"Helvetica,sans-Serif\" font-size=\"10.00\">a</text>\n",
       "</a>\n",
       "</g>\n",
       "</g>\n",
       "<!-- op&#45;001&#45;&gt;array&#45;001 -->\n",
       "<g id=\"edge1\" class=\"edge\">\n",
       "<title>op-001-&gt;array-001</title>\n",
       "<path fill=\"none\" stroke=\"black\" d=\"M28.25,-274.45C28.25,-267.16 28.25,-258.48 28.25,-250.29\"/>\n",
       "<polygon fill=\"black\" stroke=\"black\" points=\"31.75,-250.37 28.25,-240.37 24.75,-250.37 31.75,-250.37\"/>\n",
       "</g>\n",
       "<!-- op&#45;004 -->\n",
       "<g id=\"node5\" class=\"node\">\n",
       "<title>op-004</title>\n",
       "<g id=\"a_node5\"><a xlink:title=\"name: op-004\n",
       "op: blockwise\n",
       "projected memory: 100.0 MB\n",
       "tasks: 4\n",
       "num input blocks: (1, 1)\n",
       "calls: &lt;module&gt; -&gt; add -&gt; elemwise -&gt; blockwise\n",
       "line: 1 in &lt;module&gt;\">\n",
       "<path fill=\"#dcbeff\" stroke=\"black\" d=\"M80.25,-166.75C80.25,-166.75 50.25,-166.75 50.25,-166.75 44.25,-166.75 38.25,-160.75 38.25,-154.75 38.25,-154.75 38.25,-137 38.25,-137 38.25,-131 44.25,-125 50.25,-125 50.25,-125 80.25,-125 80.25,-125 86.25,-125 92.25,-131 92.25,-137 92.25,-137 92.25,-154.75 92.25,-154.75 92.25,-160.75 86.25,-166.75 80.25,-166.75\"/>\n",
       "<text text-anchor=\"middle\" x=\"65.25\" y=\"-153.25\" font-family=\"Helvetica,sans-Serif\" font-size=\"10.00\">op-004</text>\n",
       "<text text-anchor=\"middle\" x=\"65.25\" y=\"-142\" font-family=\"Helvetica,sans-Serif\" font-size=\"10.00\">add</text>\n",
       "<text text-anchor=\"middle\" x=\"65.25\" y=\"-130.75\" font-family=\"Helvetica,sans-Serif\" font-size=\"10.00\">tasks: 4</text>\n",
       "</a>\n",
       "</g>\n",
       "</g>\n",
       "<!-- array&#45;001&#45;&gt;op&#45;004 -->\n",
       "<g id=\"edge2\" class=\"edge\">\n",
       "<title>array-001-&gt;op-004</title>\n",
       "<path fill=\"none\" stroke=\"black\" d=\"M37.02,-202.48C40.85,-194.94 45.45,-185.87 49.82,-177.26\"/>\n",
       "<polygon fill=\"black\" stroke=\"black\" points=\"52.88,-178.97 54.28,-168.47 46.64,-175.8 52.88,-178.97\"/>\n",
       "</g>\n",
       "<!-- op&#45;002 -->\n",
       "<g id=\"node3\" class=\"node\">\n",
       "<title>op-002</title>\n",
       "<g id=\"a_node3\"><a xlink:title=\"name: op-002\n",
       "op: asarray\n",
       "calls: &lt;module&gt; -&gt; asarray\n",
       "line: 1 in &lt;module&gt;\">\n",
       "<path fill=\"none\" stroke=\"black\" d=\"M118.25,-310.75C118.25,-310.75 88.25,-310.75 88.25,-310.75 82.25,-310.75 76.25,-304.75 76.25,-298.75 76.25,-298.75 76.25,-286.75 76.25,-286.75 76.25,-280.75 82.25,-274.75 88.25,-274.75 88.25,-274.75 118.25,-274.75 118.25,-274.75 124.25,-274.75 130.25,-280.75 130.25,-286.75 130.25,-286.75 130.25,-298.75 130.25,-298.75 130.25,-304.75 124.25,-310.75 118.25,-310.75\"/>\n",
       "<text text-anchor=\"middle\" x=\"103.25\" y=\"-294.5\" font-family=\"Helvetica,sans-Serif\" font-size=\"10.00\">op-002</text>\n",
       "<text text-anchor=\"middle\" x=\"103.25\" y=\"-283.25\" font-family=\"Helvetica,sans-Serif\" font-size=\"10.00\">asarray</text>\n",
       "</a>\n",
       "</g>\n",
       "</g>\n",
       "<!-- array&#45;002 -->\n",
       "<g id=\"node4\" class=\"node\">\n",
       "<title>array-002</title>\n",
       "<g id=\"a_node4\"><a xlink:title=\"name: array-002\n",
       "variable: b\n",
       "shape: (3, 3)\n",
       "chunks: (2, 2)\n",
       "dtype: int64\n",
       "chunk memory: 32 bytes\">\n",
       "<polygon fill=\"none\" stroke=\"black\" points=\"131.5,-238.75 75,-238.75 75,-202.75 131.5,-202.75 131.5,-238.75\"/>\n",
       "<text text-anchor=\"middle\" x=\"103.25\" y=\"-222.5\" font-family=\"Helvetica,sans-Serif\" font-size=\"10.00\">array-002</text>\n",
       "<text text-anchor=\"middle\" x=\"103.25\" y=\"-211.25\" font-family=\"Helvetica,sans-Serif\" font-size=\"10.00\">b</text>\n",
       "</a>\n",
       "</g>\n",
       "</g>\n",
       "<!-- op&#45;002&#45;&gt;array&#45;002 -->\n",
       "<g id=\"edge3\" class=\"edge\">\n",
       "<title>op-002-&gt;array-002</title>\n",
       "<path fill=\"none\" stroke=\"black\" d=\"M103.25,-274.45C103.25,-267.16 103.25,-258.48 103.25,-250.29\"/>\n",
       "<polygon fill=\"black\" stroke=\"black\" points=\"106.75,-250.37 103.25,-240.37 99.75,-250.37 106.75,-250.37\"/>\n",
       "</g>\n",
       "<!-- array&#45;002&#45;&gt;op&#45;004 -->\n",
       "<g id=\"edge4\" class=\"edge\">\n",
       "<title>array-002-&gt;op-004</title>\n",
       "<path fill=\"none\" stroke=\"black\" d=\"M94.24,-202.48C90.31,-194.94 85.58,-185.87 81.09,-177.26\"/>\n",
       "<polygon fill=\"black\" stroke=\"black\" points=\"84.24,-175.71 76.51,-168.47 78.03,-178.95 84.24,-175.71\"/>\n",
       "</g>\n",
       "<!-- array&#45;004 -->\n",
       "<g id=\"node6\" class=\"node\">\n",
       "<title>array-004</title>\n",
       "<g id=\"a_node6\"><a xlink:title=\"name: array-004\n",
       "variable: c\n",
       "shape: (3, 3)\n",
       "chunks: (2, 2)\n",
       "dtype: int64\n",
       "chunk memory: 32 bytes\n",
       "nbytes: 72 bytes\">\n",
       "<polygon fill=\"#ffd8b1\" stroke=\"black\" points=\"93.5,-89 37,-89 37,-53 93.5,-53 93.5,-89\"/>\n",
       "<text text-anchor=\"middle\" x=\"65.25\" y=\"-72.75\" font-family=\"Helvetica,sans-Serif\" font-size=\"10.00\">array-004</text>\n",
       "<text text-anchor=\"middle\" x=\"65.25\" y=\"-61.5\" font-family=\"Helvetica,sans-Serif\" font-size=\"10.00\">c</text>\n",
       "</a>\n",
       "</g>\n",
       "</g>\n",
       "<!-- op&#45;004&#45;&gt;array&#45;004 -->\n",
       "<g id=\"edge5\" class=\"edge\">\n",
       "<title>op-004-&gt;array-004</title>\n",
       "<path fill=\"none\" stroke=\"black\" d=\"M65.25,-124.58C65.25,-117.19 65.25,-108.7 65.25,-100.73\"/>\n",
       "<polygon fill=\"black\" stroke=\"black\" points=\"68.75,-100.74 65.25,-90.74 61.75,-100.74 68.75,-100.74\"/>\n",
       "</g>\n",
       "<!-- create&#45;arrays -->\n",
       "<g id=\"node7\" class=\"node\">\n",
       "<title>create-arrays</title>\n",
       "<g id=\"a_node7\"><a xlink:title=\"name: create-arrays\n",
       "op: create-arrays\n",
       "projected memory: 100.0 MB\n",
       "tasks: 1\">\n",
       "<path fill=\"none\" stroke=\"black\" d=\"M209.75,-310.75C209.75,-310.75 160.75,-310.75 160.75,-310.75 154.75,-310.75 148.75,-304.75 148.75,-298.75 148.75,-298.75 148.75,-286.75 148.75,-286.75 148.75,-280.75 154.75,-274.75 160.75,-274.75 160.75,-274.75 209.75,-274.75 209.75,-274.75 215.75,-274.75 221.75,-280.75 221.75,-286.75 221.75,-286.75 221.75,-298.75 221.75,-298.75 221.75,-304.75 215.75,-310.75 209.75,-310.75\"/>\n",
       "<text text-anchor=\"middle\" x=\"185.25\" y=\"-294.5\" font-family=\"Helvetica,sans-Serif\" font-size=\"10.00\">create-arrays</text>\n",
       "<text text-anchor=\"middle\" x=\"185.25\" y=\"-283.25\" font-family=\"Helvetica,sans-Serif\" font-size=\"10.00\">tasks: 1</text>\n",
       "</a>\n",
       "</g>\n",
       "</g>\n",
       "<!-- arrays -->\n",
       "<g id=\"node8\" class=\"node\">\n",
       "<title>arrays</title>\n",
       "<g id=\"a_node8\"><a xlink:title=\"name: arrays\" target=\"None\">\n",
       "<polygon fill=\"none\" stroke=\"black\" points=\"212.25,-238.75 158.25,-238.75 158.25,-202.75 212.25,-202.75 212.25,-238.75\"/>\n",
       "<text text-anchor=\"middle\" x=\"185.25\" y=\"-216.88\" font-family=\"Helvetica,sans-Serif\" font-size=\"10.00\">arrays</text>\n",
       "</a>\n",
       "</g>\n",
       "</g>\n",
       "<!-- create&#45;arrays&#45;&gt;arrays -->\n",
       "<g id=\"edge6\" class=\"edge\">\n",
       "<title>create-arrays-&gt;arrays</title>\n",
       "<path fill=\"none\" stroke=\"black\" d=\"M185.25,-274.45C185.25,-267.16 185.25,-258.48 185.25,-250.29\"/>\n",
       "<polygon fill=\"black\" stroke=\"black\" points=\"188.75,-250.37 185.25,-240.37 181.75,-250.37 188.75,-250.37\"/>\n",
       "</g>\n",
       "</g>\n",
       "</svg>"
      ],
      "text/plain": [
       "<IPython.core.display.SVG object>"
      ]
     },
     "execution_count": 4,
     "metadata": {},
     "output_type": "execute_result"
    }
   ],
   "source": [
    "c = xp.add(a, b)\n",
    "c.visualize()"
   ]
  },
  {
   "cell_type": "markdown",
   "id": "5f87eebe",
   "metadata": {
    "slideshow": {
     "slide_type": "fragment"
    }
   },
   "source": [
    "Unlike a Dask graph which is at the task level, a Cubed graph is at the Zarr array level."
   ]
  },
  {
   "cell_type": "markdown",
   "id": "eec70e88",
   "metadata": {
    "slideshow": {
     "slide_type": "slide"
    }
   },
   "source": [
    "# Optimization\n",
    "\n",
    "Cubed will automatically optimize the graph before computing it. For example by fusing blockwise (map) operations:\n",
    "\n",
    "<p float=\"left\">\n",
    "  <img src=\"toy-unoptimized.png\" height=\"600\" />\n",
    "  <img src=\"toy-optimized.png\" height=\"600\"/>\n",
    "</p>"
   ]
  },
  {
   "cell_type": "markdown",
   "id": "925fff3c-5531-4953-891e-b382583de56b",
   "metadata": {},
   "source": [
    "# Optimization: an advanced example\n",
    "\n",
    "In early 2024 we implemented more optimizations to give a **4.8x** performance improvement on the \"Quadratic Means\" climate workload running on Lithops with AWS Lambda, with a **1.5 TB** workload completing in around **100 seconds**\n",
    "\n",
    "<img src=\"benchmarks-aws.png\" width=\"600\">\n",
    "\n",
    "More details in [Optimizing Cubed](https://medium.com/pangeo/optimizing-cubed-7a0b8f65f5b7)\n"
   ]
  },
  {
   "cell_type": "markdown",
   "id": "ba00f446",
   "metadata": {
    "slideshow": {
     "slide_type": "slide"
    }
   },
   "source": [
    "# Memory\n",
    "\n",
    "Cubed models the memory used by every operation, and calculates the `projected_mem` for a task - an upper bound.\n",
    "\n",
    "<img src=\"../../images/memory.svg\" width=\"600\">"
   ]
  },
  {
   "cell_type": "markdown",
   "id": "8f52dabc",
   "metadata": {
    "slideshow": {
     "slide_type": "slide"
    }
   },
   "source": [
    "If projected memory is more than what user specifies is allowed then an exception is raised __during planning__"
   ]
  },
  {
   "cell_type": "code",
   "execution_count": 5,
   "id": "5bcc8dc2",
   "metadata": {
    "slideshow": {
     "slide_type": "fragment"
    }
   },
   "outputs": [
    {
     "name": "stdout",
     "output_type": "stream",
     "text": [
      "Projected blockwise memory (192) exceeds allowed_mem (100), including reserved_mem (0)\n"
     ]
    }
   ],
   "source": [
    "import cubed\n",
    "spec = cubed.Spec(work_dir=\"tmp\", allowed_mem=100)  # not enough memory!\n",
    "a = xp.asarray([[1, 2, 3], [4, 5, 6], [7, 8, 9]], chunks=(2, 2), spec=spec)\n",
    "b = xp.asarray([[1, 1, 1], [1, 1, 1], [1, 1, 1]], chunks=(2, 2), spec=spec)\n",
    "try:\n",
    "    c = xp.add(a, b)\n",
    "except ValueError as e:\n",
    "    print(e)"
   ]
  },
  {
   "cell_type": "markdown",
   "id": "5a672bf2",
   "metadata": {
    "slideshow": {
     "slide_type": "slide"
    }
   },
   "source": [
    "# Peak memory\n",
    "\n",
    "Cubed measures the peak amount of memory actually used during runtime.\n",
    "\n",
    "Used to checked utilization, and improve the modelling.\n",
    "\n",
    "```\n",
    "  array_name    op_name  num_tasks  peak_mem_delta_mb_max  projected_mem_mb  utilization\n",
    "0  array-003    rechunk          1             103.727104         0.000064          NaN\n",
    "1  array-004  blockwise          4             654.286848       800.000008     0.817859\n",
    "2  array-007    rechunk          1             103.645184         0.000064          NaN\n",
    "3  array-008  blockwise          4             654.364672       800.000008     0.817956\n",
    "4  array-009  blockwise          4             796.954624      1200.000000     0.664129\n",
    "```\n"
   ]
  },
  {
   "cell_type": "markdown",
   "id": "2527cf98",
   "metadata": {
    "slideshow": {
     "slide_type": "slide"
    }
   },
   "source": [
    "# Runtimes"
   ]
  },
  {
   "cell_type": "markdown",
   "id": "d5a1fddd",
   "metadata": {
    "slideshow": {
     "slide_type": "fragment"
    }
   },
   "source": [
    "* __Lithops__: multi-cloud serverless computing framework\n",
    "    * Slightly more work to get started since you have to build a runtime environment first\n",
    "    * Tested on AWS Lambda and Google Cloud Functions with ~1000 workers"
   ]
  },
  {
   "cell_type": "markdown",
   "id": "b1fb4379",
   "metadata": {
    "slideshow": {
     "slide_type": "fragment"
    }
   },
   "source": [
    "* __Modal__: new serverless platform\n",
    "    * Very easy to set up since it builds the runtime automatically\n",
    "    * Tested with ~300 workers"
   ]
  },
  {
   "cell_type": "markdown",
   "id": "edcd5b33",
   "metadata": {
    "slideshow": {
     "slide_type": "fragment"
    }
   },
   "source": [
    "* __Apache Beam (Google Cloud Dataflow)__: fully managed pipeline processing service\n",
    "    * Slow to spin up\n",
    "    * Only tested with ~20 workers, but very mature so will scale out"
   ]
  },
  {
   "cell_type": "markdown",
   "id": "08a78436",
   "metadata": {
    "slideshow": {
     "slide_type": "slide"
    }
   },
   "source": [
    "# Example timeline\n",
    "\n",
    "Adding two 20GB arrays on Lithops (AWS Lambda)\n",
    "\n",
    "![Lithops timeline](cubed-lithops-timeline.png)"
   ]
  },
  {
   "cell_type": "markdown",
   "id": "36b2576e",
   "metadata": {
    "slideshow": {
     "slide_type": "slide"
    }
   },
   "source": [
    "# Scalability and robustness\n",
    "\n",
    "* Serverless scales out\n",
    "    * AWS Lambda supports 1000 concurrent instances by default\n",
    "    * PyWren paper: [https://shivaram.org/publications/pywren-socc17.pdf](https://shivaram.org/publications/pywren-socc17.pdf)\n",
    "* Retries\n",
    "    * Each task is tried three times before failing\n",
    "* Stragglers\n",
    "    * A backup task will be launched if a task is taking significantly longer than average"
   ]
  },
  {
   "cell_type": "markdown",
   "id": "4a771fa4",
   "metadata": {
    "slideshow": {
     "slide_type": "slide"
    }
   },
   "source": [
    "# Xarray integration\n",
    "\n",
    "* Xarray can use Cubed as its computation engine instead of Dask\n",
    "    * Just install the [cubed-xarray](https://github.com/xarray-contrib/cubed-xarray) integration package\n",
    "* Cubed can use [Flox](https://flox.readthedocs.io/en/latest/) for `groupby` operations\n",
    "    * Examples at https://flox.readthedocs.io/en/latest/user-stories/climatology-hourly-cubed.html"
   ]
  },
  {
   "cell_type": "markdown",
   "id": "db82ee51",
   "metadata": {
    "slideshow": {
     "slide_type": "slide"
    }
   },
   "source": [
    "# Try out Cubed!\n",
    "\n",
    "* Try it out on your use case\n",
    "    * Get started at https://cubed-dev.github.io/cubed/\n",
    "* Some examples from the Pangeo community:\n",
    "    * https://github.com/pangeo-data/distributed-array-examples"
   ]
  }
 ],
 "metadata": {
  "celltoolbar": "Slideshow",
  "kernelspec": {
   "display_name": "Python 3 (ipykernel)",
   "language": "python",
   "name": "python3"
  },
  "language_info": {
   "codemirror_mode": {
    "name": "ipython",
    "version": 3
   },
   "file_extension": ".py",
   "mimetype": "text/x-python",
   "name": "python",
   "nbconvert_exporter": "python",
   "pygments_lexer": "ipython3",
   "version": "3.9.18"
  }
 },
 "nbformat": 4,
 "nbformat_minor": 5
}
