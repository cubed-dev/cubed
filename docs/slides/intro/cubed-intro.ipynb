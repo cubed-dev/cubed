{
 "cells": [
  {
   "cell_type": "markdown",
   "id": "a1b16cc7",
   "metadata": {
    "slideshow": {
     "slide_type": "slide"
    }
   },
   "source": [
    "# Cubed: an introduction\n",
    "\n",
    "Tom White, November 2023"
   ]
  },
  {
   "cell_type": "markdown",
   "id": "6b1259f1",
   "metadata": {
    "slideshow": {
     "slide_type": "slide"
    }
   },
   "source": [
    "# Idea\n",
    "\n",
    "Use Zarr as the underlying intermediate persistent storage between array operations.\n",
    "\n",
    "![Cubed idea](cubed-idea.svg)\n",
    "\n",
    "Tasks operate on Zarr chunks.\n",
    "\n",
    "Tasks are embarassingly parallel, and their runtime memory can be tightly controlled."
   ]
  },
  {
   "cell_type": "markdown",
   "id": "bc1695ae",
   "metadata": {
    "slideshow": {
     "slide_type": "slide"
    }
   },
   "source": [
    "# Demo\n",
    "\n",
    "Cubed implements the [Python Array API standard](https://data-apis.org/array-api/latest/)"
   ]
  },
  {
   "cell_type": "code",
   "execution_count": 1,
   "id": "3d5df36e",
   "metadata": {
    "slideshow": {
     "slide_type": "fragment"
    }
   },
   "outputs": [],
   "source": [
    "import cubed.array_api as xp\n",
    "a = xp.asarray([[1, 2, 3], [4, 5, 6], [7, 8, 9]], chunks=(2, 2))"
   ]
  },
  {
   "cell_type": "markdown",
   "id": "ef575255",
   "metadata": {
    "slideshow": {
     "slide_type": "fragment"
    }
   },
   "source": [
    "Notice that we specify chunks, just like in Dask Array."
   ]
  },
  {
   "cell_type": "code",
   "execution_count": 2,
   "id": "c073e911",
   "metadata": {
    "slideshow": {
     "slide_type": "fragment"
    }
   },
   "outputs": [],
   "source": [
    "b = xp.asarray([[1, 1, 1], [1, 1, 1], [1, 1, 1]], chunks=(2, 2))\n",
    "c = xp.add(a, b)"
   ]
  },
  {
   "cell_type": "markdown",
   "id": "86d7d212",
   "metadata": {
    "slideshow": {
     "slide_type": "fragment"
    }
   },
   "source": [
    "Cubed uses lazy evaluation, so nothing has been computed yet."
   ]
  },
  {
   "cell_type": "code",
   "execution_count": 3,
   "id": "d59f9b0a",
   "metadata": {
    "slideshow": {
     "slide_type": "fragment"
    }
   },
   "outputs": [
    {
     "data": {
      "text/plain": [
       "array([[ 2,  3,  4],\n",
       "       [ 5,  6,  7],\n",
       "       [ 8,  9, 10]])"
      ]
     },
     "execution_count": 3,
     "metadata": {},
     "output_type": "execute_result"
    }
   ],
   "source": [
    "c.compute()"
   ]
  },
  {
   "cell_type": "markdown",
   "id": "821b8c57",
   "metadata": {
    "slideshow": {
     "slide_type": "slide"
    }
   },
   "source": [
    "# Primitives\n",
    "\n",
    "* __Blockwise__: applies a function to multiple blocks from multiple inputs\n",
    "* __Rechunk__: changes chunking, without changing shape/dtype\n",
    "\n",
    "Dask introduced both of these operations.\n",
    "\n",
    "__Almost all__ array operations can be implemented using these two primitives!"
   ]
  },
  {
   "cell_type": "markdown",
   "id": "48cd218a",
   "metadata": {
    "slideshow": {
     "slide_type": "slide"
    }
   },
   "source": [
    "# Design\n",
    "\n",
    "Cubed is composed of five layers: from the storage layer at the bottom, to the Array API layer at the top: \n",
    "\n",
    "![Five layer diagram](../../images/design.svg)"
   ]
  },
  {
   "cell_type": "markdown",
   "id": "40128904",
   "metadata": {
    "slideshow": {
     "slide_type": "slide"
    }
   },
   "source": [
    "# Core and Primitive Operations\n",
    "\n",
    "![Core and Primitive Operations](../../images/ops.dot.svg)"
   ]
  },
  {
   "cell_type": "markdown",
   "id": "ffcedf91",
   "metadata": {
    "slideshow": {
     "slide_type": "slide"
    }
   },
   "source": [
    "# Example: `map_direct`\n",
    "\n",
    "![`map_direct`](../../images/map_direct.svg)\n",
    "\n",
    "Each block in the output array is read directly from one or more blocks from the inputs.\n",
    "\n",
    "Can cross block boundaries."
   ]
  },
  {
   "cell_type": "markdown",
   "id": "451285f2",
   "metadata": {
    "slideshow": {
     "slide_type": "slide"
    }
   },
   "source": [
    "# Example: `reduction`\n",
    "\n",
    "![`reduction`](../../images/reduction.svg)\n",
    "\n",
    "Implemented using multiple rounds of calls to `blockwise` and `rechunk`."
   ]
  },
  {
   "cell_type": "markdown",
   "id": "b3785e95",
   "metadata": {
    "slideshow": {
     "slide_type": "slide"
    }
   },
   "source": [
    "# Computation plan\n",
    "\n",
    "Cubed creates a computation _plan_, which is a directed acyclic graph (DAG)."
   ]
  },
  {
   "cell_type": "code",
   "execution_count": 4,
   "id": "a0a5a232",
   "metadata": {
    "slideshow": {
     "slide_type": "fragment"
    }
   },
   "outputs": [
    {
     "data": {
      "image/svg+xml": [
       "<svg xmlns=\"http://www.w3.org/2000/svg\" xmlns:xlink=\"http://www.w3.org/1999/xlink\" width=\"163pt\" height=\"146pt\" viewBox=\"0.00 0.00 163.00 146.00\">\n",
       "<g id=\"graph0\" class=\"graph\" transform=\"scale(1 1) rotate(0) translate(4 142)\">\n",
       "<polygon fill=\"white\" stroke=\"transparent\" points=\"-4,4 -4,-142 159,-142 159,4 -4,4\"/>\n",
       "<text text-anchor=\"middle\" x=\"77.5\" y=\"-18\" font-family=\"Times,serif\" font-size=\"10.00\">num tasks: 4</text>\n",
       "<text text-anchor=\"middle\" x=\"77.5\" y=\"-7\" font-family=\"Times,serif\" font-size=\"10.00\">max projected memory: 100.0 MB</text>\n",
       "<!-- array&#45;001 -->\n",
       "<g id=\"node1\" class=\"node\">\n",
       "<title>array-001</title>\n",
       "<g id=\"a_node1\"><a xlink:title=\"shape: (3, 3)\n",
       "chunks: (2, 2)\n",
       "dtype: int64\n",
       "chunk memory: 32 bytes\n",
       "\n",
       "calls: &lt;module&gt; -&gt; asarray\n",
       "line: 2 in &lt;module&gt;\">\n",
       "<polygon fill=\"none\" stroke=\"black\" points=\"68.5,-138 9.5,-138 9.5,-102 68.5,-102 68.5,-138\"/>\n",
       "<text text-anchor=\"middle\" x=\"39\" y=\"-123\" font-family=\"Helvetica,sans-Serif\" font-size=\"10.00\">array-001</text>\n",
       "<text text-anchor=\"middle\" x=\"39\" y=\"-112\" font-family=\"Helvetica,sans-Serif\" font-size=\"10.00\">asarray </text>\n",
       "</a>\n",
       "</g>\n",
       "</g>\n",
       "<!-- array&#45;004 -->\n",
       "<g id=\"node3\" class=\"node\">\n",
       "<title>array-004</title>\n",
       "<g id=\"a_node3\"><a xlink:title=\"shape: (3, 3)\n",
       "chunks: (2, 2)\n",
       "dtype: int64\n",
       "chunk memory: 32 bytes\n",
       "\n",
       "projected memory: 100.0 MB\n",
       "tasks: 4\n",
       "calls: &lt;module&gt; -&gt; add -&gt; elemwise -&gt; blockwise\n",
       "line: 1 in &lt;module&gt;\">\n",
       "<polygon fill=\"#dcbeff\" stroke=\"black\" points=\"106.5,-66 47.5,-66 47.5,-30 106.5,-30 106.5,-66\"/>\n",
       "<text text-anchor=\"middle\" x=\"77\" y=\"-51\" font-family=\"Helvetica,sans-Serif\" font-size=\"10.00\">array-004</text>\n",
       "<text text-anchor=\"middle\" x=\"77\" y=\"-40\" font-family=\"Helvetica,sans-Serif\" font-size=\"10.00\">add (bw)</text>\n",
       "</a>\n",
       "</g>\n",
       "</g>\n",
       "<!-- array&#45;001&#45;&gt;array&#45;004 -->\n",
       "<g id=\"edge1\" class=\"edge\">\n",
       "<title>array-001-&gt;array-004</title>\n",
       "<path fill=\"none\" stroke=\"black\" d=\"M48.39,-101.7C52.76,-93.64 58.06,-83.89 62.9,-74.98\"/>\n",
       "<polygon fill=\"black\" stroke=\"black\" points=\"66.02,-76.56 67.71,-66.1 59.87,-73.22 66.02,-76.56\"/>\n",
       "</g>\n",
       "<!-- array&#45;002 -->\n",
       "<g id=\"node2\" class=\"node\">\n",
       "<title>array-002</title>\n",
       "<g id=\"a_node2\"><a xlink:title=\"shape: (3, 3)\n",
       "chunks: (2, 2)\n",
       "dtype: int64\n",
       "chunk memory: 32 bytes\n",
       "\n",
       "calls: &lt;module&gt; -&gt; asarray\n",
       "line: 1 in &lt;module&gt;\">\n",
       "<polygon fill=\"none\" stroke=\"black\" points=\"145.5,-138 86.5,-138 86.5,-102 145.5,-102 145.5,-138\"/>\n",
       "<text text-anchor=\"middle\" x=\"116\" y=\"-123\" font-family=\"Helvetica,sans-Serif\" font-size=\"10.00\">array-002</text>\n",
       "<text text-anchor=\"middle\" x=\"116\" y=\"-112\" font-family=\"Helvetica,sans-Serif\" font-size=\"10.00\">asarray </text>\n",
       "</a>\n",
       "</g>\n",
       "</g>\n",
       "<!-- array&#45;002&#45;&gt;array&#45;004 -->\n",
       "<g id=\"edge2\" class=\"edge\">\n",
       "<title>array-002-&gt;array-004</title>\n",
       "<path fill=\"none\" stroke=\"black\" d=\"M106.36,-101.7C101.87,-93.64 96.44,-83.89 91.48,-74.98\"/>\n",
       "<polygon fill=\"black\" stroke=\"black\" points=\"94.45,-73.14 86.53,-66.1 88.34,-76.54 94.45,-73.14\"/>\n",
       "</g>\n",
       "</g>\n",
       "</svg>"
      ],
      "text/plain": [
       "<IPython.core.display.SVG object>"
      ]
     },
     "execution_count": 4,
     "metadata": {},
     "output_type": "execute_result"
    }
   ],
   "source": [
    "c = xp.add(a, b)\n",
    "c.visualize()"
   ]
  },
  {
   "cell_type": "markdown",
   "id": "5f87eebe",
   "metadata": {
    "slideshow": {
     "slide_type": "fragment"
    }
   },
   "source": [
    "Unlike a Dask graph which is at the task level, a Cubed graph is at the Zarr array level."
   ]
  },
  {
   "cell_type": "markdown",
   "id": "eec70e88",
   "metadata": {
    "slideshow": {
     "slide_type": "slide"
    }
   },
   "source": [
    "# Optimization\n",
    "\n",
    "Cubed will optimize the graph before computing it - by fusing blockwise (map) operations.\n",
    "\n",
    "<p float=\"left\">\n",
    "  <img src=\"fusion-unoptimized.png\" />\n",
    "  <img src=\"fusion.png\" />\n",
    "</p>\n",
    "\n",
    "This is a simple case - still lots of optimizations left to do."
   ]
  },
  {
   "cell_type": "markdown",
   "id": "ba00f446",
   "metadata": {
    "slideshow": {
     "slide_type": "slide"
    }
   },
   "source": [
    "# Memory\n",
    "\n",
    "Cubed models the memory used by every operation, and calculates the `projected_mem` for a task - an upper bound.\n",
    "\n",
    "<img src=\"../../images/memory.svg\" width=\"600\">"
   ]
  },
  {
   "cell_type": "markdown",
   "id": "8f52dabc",
   "metadata": {
    "slideshow": {
     "slide_type": "slide"
    }
   },
   "source": [
    "If projected memory is more than what user specifies is allowed then an exception is raised __during planning__"
   ]
  },
  {
   "cell_type": "code",
   "execution_count": 5,
   "id": "5bcc8dc2",
   "metadata": {
    "slideshow": {
     "slide_type": "fragment"
    }
   },
   "outputs": [
    {
     "name": "stdout",
     "output_type": "stream",
     "text": [
      "Projected blockwise memory (192) exceeds allowed_mem (100), including reserved_mem (0)\n"
     ]
    }
   ],
   "source": [
    "import cubed\n",
    "spec = cubed.Spec(work_dir=\"tmp\", allowed_mem=100)  # not enough memory!\n",
    "a = xp.asarray([[1, 2, 3], [4, 5, 6], [7, 8, 9]], chunks=(2, 2), spec=spec)\n",
    "b = xp.asarray([[1, 1, 1], [1, 1, 1], [1, 1, 1]], chunks=(2, 2), spec=spec)\n",
    "try:\n",
    "    c = xp.add(a, b)\n",
    "except ValueError as e:\n",
    "    print(e)"
   ]
  },
  {
   "cell_type": "markdown",
   "id": "5a672bf2",
   "metadata": {
    "slideshow": {
     "slide_type": "slide"
    }
   },
   "source": [
    "# Peak memory\n",
    "\n",
    "Cubed measures the peak amount of memory actually used during runtime.\n",
    "\n",
    "Used to checked utilization, and improve the modelling.\n",
    "\n",
    "```\n",
    "  array_name    op_name  num_tasks  peak_mem_delta_mb_max  projected_mem_mb  utilization\n",
    "0  array-003    rechunk          1             103.727104         0.000064          NaN\n",
    "1  array-004  blockwise          4             654.286848       800.000008     0.817859\n",
    "2  array-007    rechunk          1             103.645184         0.000064          NaN\n",
    "3  array-008  blockwise          4             654.364672       800.000008     0.817956\n",
    "4  array-009  blockwise          4             796.954624      1200.000000     0.664129\n",
    "```\n"
   ]
  },
  {
   "cell_type": "markdown",
   "id": "2527cf98",
   "metadata": {
    "slideshow": {
     "slide_type": "slide"
    }
   },
   "source": [
    "# Runtimes"
   ]
  },
  {
   "cell_type": "markdown",
   "id": "b1fb4379",
   "metadata": {
    "slideshow": {
     "slide_type": "fragment"
    }
   },
   "source": [
    "* __Modal__: new serverless platform\n",
    "    * Very easy to set up since it builds the runtime automatically\n",
    "    * Tested with ~300 workers"
   ]
  },
  {
   "cell_type": "markdown",
   "id": "d5a1fddd",
   "metadata": {
    "slideshow": {
     "slide_type": "fragment"
    }
   },
   "source": [
    "* __Lithops__: multi-cloud serverless computing framework\n",
    "    * Slightly more work to get started since you have to build a runtime environment first\n",
    "    * Tested on AWS Lambda and Google Cloud Functions with ~1000 workers"
   ]
  },
  {
   "cell_type": "markdown",
   "id": "edcd5b33",
   "metadata": {
    "slideshow": {
     "slide_type": "fragment"
    }
   },
   "source": [
    "* __Apache Beam (Google Cloud Dataflow)__: fully managed pipeline processing service\n",
    "    * Slow to spin up\n",
    "    * Only tested with ~20 workers, but very mature so will scale out"
   ]
  },
  {
   "cell_type": "markdown",
   "id": "08a78436",
   "metadata": {
    "slideshow": {
     "slide_type": "slide"
    }
   },
   "source": [
    "# Example timeline\n",
    "\n",
    "Adding two 20GB arrays on Lithops (AWS Lambda)\n",
    "\n",
    "![Lithops timeline](cubed-lithops-timeline.png)"
   ]
  },
  {
   "cell_type": "markdown",
   "id": "36b2576e",
   "metadata": {
    "slideshow": {
     "slide_type": "slide"
    }
   },
   "source": [
    "# Scalability and robustness\n",
    "\n",
    "* Serverless scales out\n",
    "    * AWS Lambda supports 1000 concurrent instances by default\n",
    "    * PyWren paper: [https://shivaram.org/publications/pywren-socc17.pdf](https://shivaram.org/publications/pywren-socc17.pdf)\n",
    "* Retries\n",
    "    * Each task is tried three times before failing\n",
    "* Stragglers\n",
    "    * A backup task will be launched if a task is taking significantly longer than average (off by default)"
   ]
  },
  {
   "cell_type": "markdown",
   "id": "4a771fa4",
   "metadata": {
    "slideshow": {
     "slide_type": "slide"
    }
   },
   "source": [
    "# Xarray integration\n",
    "\n",
    "* Tom Nicholas added [Generalize handling of chunked array types](https://github.com/pydata/xarray/pull/7019) to Xarray\n",
    "    * Xarray can use Cubed as its computation engine instead of Dask\n",
    "    * Also needs [cubed-xarray](https://github.com/xarray-contrib/cubed-xarray) integration package\n",
    "* Examples at https://github.com/pangeo-data/distributed-array-examples"
   ]
  },
  {
   "cell_type": "markdown",
   "id": "db82ee51",
   "metadata": {
    "slideshow": {
     "slide_type": "slide"
    }
   },
   "source": [
    "# Next steps\n",
    "\n",
    "* Community\n",
    "* Examples and use cases\n",
    "    * Pangeo\n",
    "    * sgkit\n",
    "* [Optimizations](https://github.com/tomwhite/cubed/issues?q=is%3Aissue+is%3Aopen+label%3Aoptimization)"
   ]
  }
 ],
 "metadata": {
  "celltoolbar": "Slideshow",
  "kernelspec": {
   "display_name": "Python 3 (ipykernel)",
   "language": "python",
   "name": "python3"
  },
  "language_info": {
   "codemirror_mode": {
    "name": "ipython",
    "version": 3
   },
   "file_extension": ".py",
   "mimetype": "text/x-python",
   "name": "python",
   "nbconvert_exporter": "python",
   "pygments_lexer": "ipython3",
   "version": "3.9.18"
  }
 },
 "nbformat": 4,
 "nbformat_minor": 5
}
